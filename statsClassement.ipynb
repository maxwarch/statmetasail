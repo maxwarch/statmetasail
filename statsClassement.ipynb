{
 "cells": [
  {
   "cell_type": "code",
   "execution_count": 3,
   "metadata": {},
   "outputs": [
    {
     "name": "stdout",
     "output_type": "stream",
     "text": [
      "club\n",
      "C V CAZAUX LAC          6\n",
      "B N COGOLIN             5\n",
      "S N O NANTES            4\n",
      "YC ROUEN 76             4\n",
      "CN ARRADON              4\n",
      "BN MARE E VELA          3\n",
      "C.N. VIRY CHATILLON     3\n",
      "C N B P P               3\n",
      "C V MARTIGUES           2\n",
      "GGVLS                   2\n",
      "C N CASTELNAUDARY       2\n",
      "VOILE LIBRE MONTAGNY    2\n",
      "S.R.C. Sud-Oise         2\n",
      "C.D.P.A BASSIN-ROND     2\n",
      "C V ARCACHON            1\n",
      "C N NICE                1\n",
      "C V HOURTIN MEDOC       1\n",
      "S.N. AJACCIO            1\n",
      "FL LANESTER VOILE       1\n",
      "SNOS VOILE              1\n",
      "YC du CALAISIS          1\n",
      "S R ANTIBES             1\n",
      "A Dijon Arc Voile       1\n",
      "S L N PORTICCIO         1\n",
      "VOILES DE SEINE         1\n",
      "Y C CARNAC              1\n",
      "CNHR                    1\n",
      "Name: count, dtype: int64\n",
      "28.5\n"
     ]
    },
    {
     "data": {
      "text/plain": [
       "club\n",
       "C V CAZAUX LAC         2\n",
       "CN ARRADON             2\n",
       "BN MARE E VELA         1\n",
       "S R ANTIBES            1\n",
       "C N B P P              1\n",
       "YC du CALAISIS         1\n",
       "S N O NANTES           1\n",
       "C.D.P.A BASSIN-ROND    1\n",
       "S.R.C. Sud-Oise        1\n",
       "C N NICE               1\n",
       "C V ARCACHON           1\n",
       "C V MARTIGUES          1\n",
       "B N COGOLIN            1\n",
       "Name: count, dtype: int64"
      ]
     },
     "execution_count": 3,
     "metadata": {},
     "output_type": "execute_result"
    }
   ],
   "source": [
    "import pandas as pd\n",
    "import math\n",
    "\n",
    "classement = pd.read_html('https://www.ffvoile.fr/ffv/sportif/ClmtCompetDet.asp?clid=189081', match=\"place\", encoding='latin1')\n",
    "classement = classement[0]\n",
    "classement.drop(columns=['Unnamed: 0', 'sexe', 'licences'], axis=1, inplace=True)\n",
    "classement.rename(columns={\"Unnamed: 10\": \"manches\"}, inplace=True)\n",
    "classement.manches = classement.manches.map(lambda x: x.strip('()').split(','))\n",
    "classement.head()\n",
    "\n",
    "print(classement.loc[0:math.floor(len(classement))].club.value_counts())\n",
    "print(len(classement)/2)\n",
    "classement.loc[0:math.floor(len(classement)/4)].club.value_counts()"
   ]
  }
 ],
 "metadata": {
  "kernelspec": {
   "display_name": ".venv",
   "language": "python",
   "name": "python3"
  },
  "language_info": {
   "codemirror_mode": {
    "name": "ipython",
    "version": 3
   },
   "file_extension": ".py",
   "mimetype": "text/x-python",
   "name": "python",
   "nbconvert_exporter": "python",
   "pygments_lexer": "ipython3",
   "version": "3.10.9"
  },
  "orig_nbformat": 4
 },
 "nbformat": 4,
 "nbformat_minor": 2
}
