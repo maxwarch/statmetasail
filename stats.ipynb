{
 "cells": [
  {
   "cell_type": "code",
   "execution_count": 1,
   "id": "dda7d3e4-113d-4a3f-9cc3-7dcfa3ef38c4",
   "metadata": {
    "jupyter": {
     "source_hidden": true
    },
    "tags": []
   },
   "outputs": [],
   "source": [
    "import pandas as pd\n",
    "import xml.etree.ElementTree as ET\n",
    "from io import StringIO"
   ]
  },
  {
   "cell_type": "code",
   "execution_count": 2,
   "id": "e5549563-7b67-4059-9535-95d7c08391dc",
   "metadata": {
    "jupyter": {
     "source_hidden": true
    },
    "tags": []
   },
   "outputs": [
    {
     "data": {
      "text/plain": [
       "id                       object\n",
       "nom                      object\n",
       "long_parcours             int64\n",
       "dist_parcouru             int64\n",
       "temps_total               int64\n",
       "s_topspeed              float64\n",
       "s_topvmg                float64\n",
       "s_avgspeed              float64\n",
       "s_tempsgauche             int64\n",
       "s_tempsdroite             int64\n",
       "s_tempssursegment         int64\n",
       "s_distancesursegment      int64\n",
       "s_longueursegment         int64\n",
       "s_rankentersegment        int64\n",
       "s_leg                     int64\n",
       "dtype: object"
      ]
     },
     "execution_count": 2,
     "metadata": {},
     "output_type": "execute_result"
    }
   ],
   "source": [
    "#id = Seriale\n",
    "#nom = Nome\n",
    "#long_parcours = TotLungLato (en m)\n",
    "#dist_parcouru = TotDistPerc (en m)\n",
    "#temps_total = TotTempPerc (en s)\n",
    "#s*_topspeed = cInfoRaceSegment/TopSpeed (en Knt)\n",
    "#s*_topvmg = cInfoRaceSegment/TopVMG (en Knt)\n",
    "#s*_avgspeed = cInfoRaceSegment/AvgSpeed (en Knt)\n",
    "#s*_tempsgauche = cInfoRaceSegment/CrtRaceSegSX (en %)\n",
    "#s*_tempsdroite = cInfoRaceSegment/CrtRaceSegDX (en %)\n",
    "#s*_tempssursegment = cInfoRaceSegment/TimeSecPercorsi (en s)\n",
    "#s*_distancesursegment = cInfoRaceSegment/SegDistRealePercorsa (en m)\n",
    "#s*_longueursegment = cInfoRaceSegment/LungLato (en m)\n",
    "#s*_rankentersegment = cInfoRaceSegment/SegEnteredRank\n",
    "\n",
    "# M7, M8, M9, M10, M11, M12,  Départ – 1 – 4 – 1 – 2 – 3 - Arrivée\n",
    "# M13  Départ – 1 – 2 – 3 – 2 – 3 - Arrivée\n",
    "#https://app.metasail.it/(S(usryiluj43x0xh10ztf4whfp))/MetaSailWS.asmx/getStatistiche?idgara=xxx\n",
    "\n",
    "manche = 'M9'\n",
    "\n",
    "# remove namespace\n",
    "src = open('./' + manche + '.xml', 'r').read()\n",
    "tree = ET.iterparse(StringIO(src))\n",
    "for _, el in tree:\n",
    "    prefix, has_namespace, postfix = el.tag.partition('}')\n",
    "    if has_namespace:\n",
    "        el.tag = postfix\n",
    "\n",
    "root = tree.root\n",
    "\n",
    "rows = []\n",
    "rows_repeat = []\n",
    "row_index = 0\n",
    "for node in root: \n",
    "    curr_segment = 1\n",
    "    for segment in node.find('lstSegments').iter('cInfoRaceSegment'):\n",
    "        row = {\n",
    "            'id': node.find('Seriale').text if node is not None else None,\n",
    "            'nom': node.find('Nome').text if node is not None else None,\n",
    "            'long_parcours': int(node.find('TotLungLato').text) if node is not None else None,\n",
    "            'dist_parcouru': int(node.find('TotDistPerc').text) if node is not None else None,\n",
    "            'temps_total': int(node.find('TotTempPerc').text) if node is not None else None,\n",
    "        }\n",
    "        row['s_topspeed'] = float(segment.find('TopSpeed').text)\n",
    "        row['s_topvmg'] = float(segment.find('TopVMG').text)\n",
    "        row['s_avgspeed'] = float(segment.find('AvgSpeed').text)\n",
    "        row['s_tempsgauche'] = int(segment.find('CrtRaceSegSX').text)\n",
    "        row['s_tempsdroite'] = int(segment.find('CrtRaceSegDX').text)\n",
    "        row['s_tempssursegment'] = int(segment.find('TimeSecPercorsi').text)\n",
    "        row['s_distancesursegment'] = int(segment.find('SegDistRealePercorsa').text)\n",
    "        row['s_longueursegment'] = int(segment.find('LungLato').text)\n",
    "        row['s_rankentersegment'] = int(segment.find('SegEnteredRank').text)\n",
    "        row['s_leg'] = curr_segment\n",
    "        rows_repeat.append(row)\n",
    "        curr_segment += 1\n",
    "\n",
    "df = pd.DataFrame(rows_repeat, columns=[k for k in rows_repeat[0]])\n",
    "df.dtypes\n"
   ]
  },
  {
   "cell_type": "code",
   "execution_count": 3,
   "id": "974e01c2-99f2-4a6f-823d-551cbd1f96fe",
   "metadata": {
    "jupyter": {
     "source_hidden": true
    },
    "tags": []
   },
   "outputs": [
    {
     "data": {
      "text/html": [
       "<div>\n",
       "<style scoped>\n",
       "    .dataframe tbody tr th:only-of-type {\n",
       "        vertical-align: middle;\n",
       "    }\n",
       "\n",
       "    .dataframe tbody tr th {\n",
       "        vertical-align: top;\n",
       "    }\n",
       "\n",
       "    .dataframe thead th {\n",
       "        text-align: right;\n",
       "    }\n",
       "</style>\n",
       "<table border=\"1\" class=\"dataframe\">\n",
       "  <thead>\n",
       "    <tr style=\"text-align: right;\">\n",
       "      <th></th>\n",
       "      <th>id</th>\n",
       "      <th>nom</th>\n",
       "      <th>long_parcours</th>\n",
       "      <th>dist_parcouru</th>\n",
       "      <th>temps_total</th>\n",
       "      <th>s_topspeed</th>\n",
       "      <th>s_topvmg</th>\n",
       "      <th>s_avgspeed</th>\n",
       "      <th>s_tempsgauche</th>\n",
       "      <th>s_tempsdroite</th>\n",
       "      <th>s_tempssursegment</th>\n",
       "      <th>s_distancesursegment</th>\n",
       "      <th>s_longueursegment</th>\n",
       "      <th>s_rankentersegment</th>\n",
       "      <th>s_leg</th>\n",
       "    </tr>\n",
       "  </thead>\n",
       "  <tbody>\n",
       "    <tr>\n",
       "      <th>60</th>\n",
       "      <td>A0183</td>\n",
       "      <td>Briez T.</td>\n",
       "      <td>3503</td>\n",
       "      <td>3974</td>\n",
       "      <td>1953</td>\n",
       "      <td>5.0</td>\n",
       "      <td>3.60</td>\n",
       "      <td>3.25</td>\n",
       "      <td>52</td>\n",
       "      <td>48</td>\n",
       "      <td>564</td>\n",
       "      <td>944</td>\n",
       "      <td>733</td>\n",
       "      <td>1</td>\n",
       "      <td>1</td>\n",
       "    </tr>\n",
       "    <tr>\n",
       "      <th>61</th>\n",
       "      <td>A0183</td>\n",
       "      <td>Briez T.</td>\n",
       "      <td>3503</td>\n",
       "      <td>3974</td>\n",
       "      <td>1953</td>\n",
       "      <td>6.8</td>\n",
       "      <td>6.82</td>\n",
       "      <td>5.09</td>\n",
       "      <td>0</td>\n",
       "      <td>100</td>\n",
       "      <td>264</td>\n",
       "      <td>691</td>\n",
       "      <td>668</td>\n",
       "      <td>18</td>\n",
       "      <td>2</td>\n",
       "    </tr>\n",
       "    <tr>\n",
       "      <th>62</th>\n",
       "      <td>A0183</td>\n",
       "      <td>Briez T.</td>\n",
       "      <td>3503</td>\n",
       "      <td>3974</td>\n",
       "      <td>1953</td>\n",
       "      <td>5.1</td>\n",
       "      <td>3.34</td>\n",
       "      <td>3.14</td>\n",
       "      <td>41</td>\n",
       "      <td>59</td>\n",
       "      <td>534</td>\n",
       "      <td>862</td>\n",
       "      <td>668</td>\n",
       "      <td>10</td>\n",
       "      <td>3</td>\n",
       "    </tr>\n",
       "    <tr>\n",
       "      <th>63</th>\n",
       "      <td>A0183</td>\n",
       "      <td>Briez T.</td>\n",
       "      <td>3503</td>\n",
       "      <td>3974</td>\n",
       "      <td>1953</td>\n",
       "      <td>6.8</td>\n",
       "      <td>3.29</td>\n",
       "      <td>4.95</td>\n",
       "      <td>0</td>\n",
       "      <td>100</td>\n",
       "      <td>258</td>\n",
       "      <td>658</td>\n",
       "      <td>632</td>\n",
       "      <td>19</td>\n",
       "      <td>4</td>\n",
       "    </tr>\n",
       "    <tr>\n",
       "      <th>64</th>\n",
       "      <td>A0183</td>\n",
       "      <td>Briez T.</td>\n",
       "      <td>3503</td>\n",
       "      <td>3974</td>\n",
       "      <td>1953</td>\n",
       "      <td>6.0</td>\n",
       "      <td>4.96</td>\n",
       "      <td>4.59</td>\n",
       "      <td>91</td>\n",
       "      <td>9</td>\n",
       "      <td>282</td>\n",
       "      <td>665</td>\n",
       "      <td>655</td>\n",
       "      <td>15</td>\n",
       "      <td>5</td>\n",
       "    </tr>\n",
       "    <tr>\n",
       "      <th>65</th>\n",
       "      <td>A0183</td>\n",
       "      <td>Briez T.</td>\n",
       "      <td>3503</td>\n",
       "      <td>3974</td>\n",
       "      <td>1953</td>\n",
       "      <td>6.9</td>\n",
       "      <td>5.97</td>\n",
       "      <td>5.87</td>\n",
       "      <td>100</td>\n",
       "      <td>0</td>\n",
       "      <td>51</td>\n",
       "      <td>154</td>\n",
       "      <td>147</td>\n",
       "      <td>14</td>\n",
       "      <td>6</td>\n",
       "    </tr>\n",
       "    <tr>\n",
       "      <th>174</th>\n",
       "      <td>A0535</td>\n",
       "      <td>Ganivet C.</td>\n",
       "      <td>3504</td>\n",
       "      <td>3992</td>\n",
       "      <td>1803</td>\n",
       "      <td>5.1</td>\n",
       "      <td>3.70</td>\n",
       "      <td>3.59</td>\n",
       "      <td>52</td>\n",
       "      <td>48</td>\n",
       "      <td>504</td>\n",
       "      <td>931</td>\n",
       "      <td>733</td>\n",
       "      <td>4</td>\n",
       "      <td>1</td>\n",
       "    </tr>\n",
       "    <tr>\n",
       "      <th>175</th>\n",
       "      <td>A0535</td>\n",
       "      <td>Ganivet C.</td>\n",
       "      <td>3504</td>\n",
       "      <td>3992</td>\n",
       "      <td>1803</td>\n",
       "      <td>6.6</td>\n",
       "      <td>6.40</td>\n",
       "      <td>5.09</td>\n",
       "      <td>0</td>\n",
       "      <td>100</td>\n",
       "      <td>267</td>\n",
       "      <td>699</td>\n",
       "      <td>668</td>\n",
       "      <td>1</td>\n",
       "      <td>2</td>\n",
       "    </tr>\n",
       "    <tr>\n",
       "      <th>176</th>\n",
       "      <td>A0535</td>\n",
       "      <td>Ganivet C.</td>\n",
       "      <td>3504</td>\n",
       "      <td>3992</td>\n",
       "      <td>1803</td>\n",
       "      <td>5.4</td>\n",
       "      <td>4.10</td>\n",
       "      <td>3.57</td>\n",
       "      <td>93</td>\n",
       "      <td>7</td>\n",
       "      <td>486</td>\n",
       "      <td>892</td>\n",
       "      <td>668</td>\n",
       "      <td>1</td>\n",
       "      <td>3</td>\n",
       "    </tr>\n",
       "    <tr>\n",
       "      <th>177</th>\n",
       "      <td>A0535</td>\n",
       "      <td>Ganivet C.</td>\n",
       "      <td>3504</td>\n",
       "      <td>3992</td>\n",
       "      <td>1803</td>\n",
       "      <td>8.0</td>\n",
       "      <td>3.73</td>\n",
       "      <td>6.18</td>\n",
       "      <td>0</td>\n",
       "      <td>100</td>\n",
       "      <td>201</td>\n",
       "      <td>639</td>\n",
       "      <td>632</td>\n",
       "      <td>1</td>\n",
       "      <td>4</td>\n",
       "    </tr>\n",
       "    <tr>\n",
       "      <th>178</th>\n",
       "      <td>A0535</td>\n",
       "      <td>Ganivet C.</td>\n",
       "      <td>3504</td>\n",
       "      <td>3992</td>\n",
       "      <td>1803</td>\n",
       "      <td>7.4</td>\n",
       "      <td>6.77</td>\n",
       "      <td>4.67</td>\n",
       "      <td>0</td>\n",
       "      <td>100</td>\n",
       "      <td>282</td>\n",
       "      <td>678</td>\n",
       "      <td>655</td>\n",
       "      <td>1</td>\n",
       "      <td>5</td>\n",
       "    </tr>\n",
       "    <tr>\n",
       "      <th>179</th>\n",
       "      <td>A0535</td>\n",
       "      <td>Ganivet C.</td>\n",
       "      <td>3504</td>\n",
       "      <td>3992</td>\n",
       "      <td>1803</td>\n",
       "      <td>6.6</td>\n",
       "      <td>5.15</td>\n",
       "      <td>4.72</td>\n",
       "      <td>18</td>\n",
       "      <td>82</td>\n",
       "      <td>63</td>\n",
       "      <td>153</td>\n",
       "      <td>148</td>\n",
       "      <td>1</td>\n",
       "      <td>6</td>\n",
       "    </tr>\n",
       "    <tr>\n",
       "      <th>246</th>\n",
       "      <td>A0708</td>\n",
       "      <td>Noel T.</td>\n",
       "      <td>3505</td>\n",
       "      <td>4073</td>\n",
       "      <td>1980</td>\n",
       "      <td>5.0</td>\n",
       "      <td>3.76</td>\n",
       "      <td>3.42</td>\n",
       "      <td>74</td>\n",
       "      <td>26</td>\n",
       "      <td>561</td>\n",
       "      <td>986</td>\n",
       "      <td>733</td>\n",
       "      <td>23</td>\n",
       "      <td>1</td>\n",
       "    </tr>\n",
       "    <tr>\n",
       "      <th>247</th>\n",
       "      <td>A0708</td>\n",
       "      <td>Noel T.</td>\n",
       "      <td>3505</td>\n",
       "      <td>4073</td>\n",
       "      <td>1980</td>\n",
       "      <td>6.6</td>\n",
       "      <td>6.26</td>\n",
       "      <td>4.91</td>\n",
       "      <td>0</td>\n",
       "      <td>100</td>\n",
       "      <td>276</td>\n",
       "      <td>697</td>\n",
       "      <td>668</td>\n",
       "      <td>16</td>\n",
       "      <td>2</td>\n",
       "    </tr>\n",
       "    <tr>\n",
       "      <th>248</th>\n",
       "      <td>A0708</td>\n",
       "      <td>Noel T.</td>\n",
       "      <td>3505</td>\n",
       "      <td>4073</td>\n",
       "      <td>1980</td>\n",
       "      <td>5.6</td>\n",
       "      <td>3.96</td>\n",
       "      <td>3.30</td>\n",
       "      <td>92</td>\n",
       "      <td>8</td>\n",
       "      <td>528</td>\n",
       "      <td>898</td>\n",
       "      <td>668</td>\n",
       "      <td>14</td>\n",
       "      <td>3</td>\n",
       "    </tr>\n",
       "    <tr>\n",
       "      <th>249</th>\n",
       "      <td>A0708</td>\n",
       "      <td>Noel T.</td>\n",
       "      <td>3505</td>\n",
       "      <td>4073</td>\n",
       "      <td>1980</td>\n",
       "      <td>6.9</td>\n",
       "      <td>4.17</td>\n",
       "      <td>4.60</td>\n",
       "      <td>0</td>\n",
       "      <td>100</td>\n",
       "      <td>285</td>\n",
       "      <td>674</td>\n",
       "      <td>632</td>\n",
       "      <td>21</td>\n",
       "      <td>4</td>\n",
       "    </tr>\n",
       "    <tr>\n",
       "      <th>250</th>\n",
       "      <td>A0708</td>\n",
       "      <td>Noel T.</td>\n",
       "      <td>3505</td>\n",
       "      <td>4073</td>\n",
       "      <td>1980</td>\n",
       "      <td>6.3</td>\n",
       "      <td>5.70</td>\n",
       "      <td>4.72</td>\n",
       "      <td>0</td>\n",
       "      <td>100</td>\n",
       "      <td>273</td>\n",
       "      <td>663</td>\n",
       "      <td>655</td>\n",
       "      <td>25</td>\n",
       "      <td>5</td>\n",
       "    </tr>\n",
       "    <tr>\n",
       "      <th>251</th>\n",
       "      <td>A0708</td>\n",
       "      <td>Noel T.</td>\n",
       "      <td>3505</td>\n",
       "      <td>4073</td>\n",
       "      <td>1980</td>\n",
       "      <td>6.9</td>\n",
       "      <td>4.98</td>\n",
       "      <td>5.30</td>\n",
       "      <td>100</td>\n",
       "      <td>0</td>\n",
       "      <td>57</td>\n",
       "      <td>155</td>\n",
       "      <td>149</td>\n",
       "      <td>18</td>\n",
       "      <td>6</td>\n",
       "    </tr>\n",
       "    <tr>\n",
       "      <th>294</th>\n",
       "      <td>A0354</td>\n",
       "      <td>Swinyard E.</td>\n",
       "      <td>3507</td>\n",
       "      <td>4245</td>\n",
       "      <td>2136</td>\n",
       "      <td>5.1</td>\n",
       "      <td>3.73</td>\n",
       "      <td>3.27</td>\n",
       "      <td>44</td>\n",
       "      <td>56</td>\n",
       "      <td>639</td>\n",
       "      <td>1073</td>\n",
       "      <td>733</td>\n",
       "      <td>27</td>\n",
       "      <td>1</td>\n",
       "    </tr>\n",
       "    <tr>\n",
       "      <th>295</th>\n",
       "      <td>A0354</td>\n",
       "      <td>Swinyard E.</td>\n",
       "      <td>3507</td>\n",
       "      <td>4245</td>\n",
       "      <td>2136</td>\n",
       "      <td>7.5</td>\n",
       "      <td>7.03</td>\n",
       "      <td>3.83</td>\n",
       "      <td>0</td>\n",
       "      <td>100</td>\n",
       "      <td>387</td>\n",
       "      <td>762</td>\n",
       "      <td>668</td>\n",
       "      <td>42</td>\n",
       "      <td>2</td>\n",
       "    </tr>\n",
       "    <tr>\n",
       "      <th>296</th>\n",
       "      <td>A0354</td>\n",
       "      <td>Swinyard E.</td>\n",
       "      <td>3507</td>\n",
       "      <td>4245</td>\n",
       "      <td>2136</td>\n",
       "      <td>4.9</td>\n",
       "      <td>4.28</td>\n",
       "      <td>3.35</td>\n",
       "      <td>77</td>\n",
       "      <td>23</td>\n",
       "      <td>531</td>\n",
       "      <td>914</td>\n",
       "      <td>668</td>\n",
       "      <td>54</td>\n",
       "      <td>3</td>\n",
       "    </tr>\n",
       "    <tr>\n",
       "      <th>297</th>\n",
       "      <td>A0354</td>\n",
       "      <td>Swinyard E.</td>\n",
       "      <td>3507</td>\n",
       "      <td>4245</td>\n",
       "      <td>2136</td>\n",
       "      <td>6.8</td>\n",
       "      <td>3.85</td>\n",
       "      <td>5.19</td>\n",
       "      <td>0</td>\n",
       "      <td>100</td>\n",
       "      <td>249</td>\n",
       "      <td>664</td>\n",
       "      <td>632</td>\n",
       "      <td>50</td>\n",
       "      <td>4</td>\n",
       "    </tr>\n",
       "    <tr>\n",
       "      <th>298</th>\n",
       "      <td>A0354</td>\n",
       "      <td>Swinyard E.</td>\n",
       "      <td>3507</td>\n",
       "      <td>4245</td>\n",
       "      <td>2136</td>\n",
       "      <td>6.9</td>\n",
       "      <td>5.28</td>\n",
       "      <td>4.79</td>\n",
       "      <td>0</td>\n",
       "      <td>100</td>\n",
       "      <td>273</td>\n",
       "      <td>673</td>\n",
       "      <td>655</td>\n",
       "      <td>50</td>\n",
       "      <td>5</td>\n",
       "    </tr>\n",
       "    <tr>\n",
       "      <th>299</th>\n",
       "      <td>A0354</td>\n",
       "      <td>Swinyard E.</td>\n",
       "      <td>3507</td>\n",
       "      <td>4245</td>\n",
       "      <td>2136</td>\n",
       "      <td>6.4</td>\n",
       "      <td>5.50</td>\n",
       "      <td>5.43</td>\n",
       "      <td>95</td>\n",
       "      <td>5</td>\n",
       "      <td>57</td>\n",
       "      <td>159</td>\n",
       "      <td>151</td>\n",
       "      <td>50</td>\n",
       "      <td>6</td>\n",
       "    </tr>\n",
       "    <tr>\n",
       "      <th>318</th>\n",
       "      <td>A0309</td>\n",
       "      <td>Vonck M.</td>\n",
       "      <td>3504</td>\n",
       "      <td>4089</td>\n",
       "      <td>1968</td>\n",
       "      <td>5.3</td>\n",
       "      <td>3.59</td>\n",
       "      <td>3.45</td>\n",
       "      <td>55</td>\n",
       "      <td>45</td>\n",
       "      <td>549</td>\n",
       "      <td>974</td>\n",
       "      <td>733</td>\n",
       "      <td>10</td>\n",
       "      <td>1</td>\n",
       "    </tr>\n",
       "    <tr>\n",
       "      <th>319</th>\n",
       "      <td>A0309</td>\n",
       "      <td>Vonck M.</td>\n",
       "      <td>3504</td>\n",
       "      <td>4089</td>\n",
       "      <td>1968</td>\n",
       "      <td>6.2</td>\n",
       "      <td>6.18</td>\n",
       "      <td>4.74</td>\n",
       "      <td>81</td>\n",
       "      <td>19</td>\n",
       "      <td>279</td>\n",
       "      <td>680</td>\n",
       "      <td>668</td>\n",
       "      <td>12</td>\n",
       "      <td>2</td>\n",
       "    </tr>\n",
       "    <tr>\n",
       "      <th>320</th>\n",
       "      <td>A0309</td>\n",
       "      <td>Vonck M.</td>\n",
       "      <td>3504</td>\n",
       "      <td>4089</td>\n",
       "      <td>1968</td>\n",
       "      <td>4.7</td>\n",
       "      <td>3.96</td>\n",
       "      <td>3.49</td>\n",
       "      <td>37</td>\n",
       "      <td>63</td>\n",
       "      <td>528</td>\n",
       "      <td>947</td>\n",
       "      <td>668</td>\n",
       "      <td>11</td>\n",
       "      <td>3</td>\n",
       "    </tr>\n",
       "    <tr>\n",
       "      <th>321</th>\n",
       "      <td>A0309</td>\n",
       "      <td>Vonck M.</td>\n",
       "      <td>3504</td>\n",
       "      <td>4089</td>\n",
       "      <td>1968</td>\n",
       "      <td>7.2</td>\n",
       "      <td>3.32</td>\n",
       "      <td>4.94</td>\n",
       "      <td>0</td>\n",
       "      <td>100</td>\n",
       "      <td>261</td>\n",
       "      <td>663</td>\n",
       "      <td>632</td>\n",
       "      <td>15</td>\n",
       "      <td>4</td>\n",
       "    </tr>\n",
       "    <tr>\n",
       "      <th>322</th>\n",
       "      <td>A0309</td>\n",
       "      <td>Vonck M.</td>\n",
       "      <td>3504</td>\n",
       "      <td>4089</td>\n",
       "      <td>1968</td>\n",
       "      <td>6.4</td>\n",
       "      <td>5.67</td>\n",
       "      <td>4.50</td>\n",
       "      <td>76</td>\n",
       "      <td>24</td>\n",
       "      <td>288</td>\n",
       "      <td>666</td>\n",
       "      <td>655</td>\n",
       "      <td>14</td>\n",
       "      <td>5</td>\n",
       "    </tr>\n",
       "    <tr>\n",
       "      <th>323</th>\n",
       "      <td>A0309</td>\n",
       "      <td>Vonck M.</td>\n",
       "      <td>3504</td>\n",
       "      <td>4089</td>\n",
       "      <td>1968</td>\n",
       "      <td>6.4</td>\n",
       "      <td>5.61</td>\n",
       "      <td>4.90</td>\n",
       "      <td>82</td>\n",
       "      <td>18</td>\n",
       "      <td>63</td>\n",
       "      <td>159</td>\n",
       "      <td>148</td>\n",
       "      <td>17</td>\n",
       "      <td>6</td>\n",
       "    </tr>\n",
       "  </tbody>\n",
       "</table>\n",
       "</div>"
      ],
      "text/plain": [
       "        id          nom  long_parcours  dist_parcouru  temps_total  \\\n",
       "60   A0183     Briez T.           3503           3974         1953   \n",
       "61   A0183     Briez T.           3503           3974         1953   \n",
       "62   A0183     Briez T.           3503           3974         1953   \n",
       "63   A0183     Briez T.           3503           3974         1953   \n",
       "64   A0183     Briez T.           3503           3974         1953   \n",
       "65   A0183     Briez T.           3503           3974         1953   \n",
       "174  A0535   Ganivet C.           3504           3992         1803   \n",
       "175  A0535   Ganivet C.           3504           3992         1803   \n",
       "176  A0535   Ganivet C.           3504           3992         1803   \n",
       "177  A0535   Ganivet C.           3504           3992         1803   \n",
       "178  A0535   Ganivet C.           3504           3992         1803   \n",
       "179  A0535   Ganivet C.           3504           3992         1803   \n",
       "246  A0708      Noel T.           3505           4073         1980   \n",
       "247  A0708      Noel T.           3505           4073         1980   \n",
       "248  A0708      Noel T.           3505           4073         1980   \n",
       "249  A0708      Noel T.           3505           4073         1980   \n",
       "250  A0708      Noel T.           3505           4073         1980   \n",
       "251  A0708      Noel T.           3505           4073         1980   \n",
       "294  A0354  Swinyard E.           3507           4245         2136   \n",
       "295  A0354  Swinyard E.           3507           4245         2136   \n",
       "296  A0354  Swinyard E.           3507           4245         2136   \n",
       "297  A0354  Swinyard E.           3507           4245         2136   \n",
       "298  A0354  Swinyard E.           3507           4245         2136   \n",
       "299  A0354  Swinyard E.           3507           4245         2136   \n",
       "318  A0309     Vonck M.           3504           4089         1968   \n",
       "319  A0309     Vonck M.           3504           4089         1968   \n",
       "320  A0309     Vonck M.           3504           4089         1968   \n",
       "321  A0309     Vonck M.           3504           4089         1968   \n",
       "322  A0309     Vonck M.           3504           4089         1968   \n",
       "323  A0309     Vonck M.           3504           4089         1968   \n",
       "\n",
       "     s_topspeed  s_topvmg  s_avgspeed  s_tempsgauche  s_tempsdroite  \\\n",
       "60          5.0      3.60        3.25             52             48   \n",
       "61          6.8      6.82        5.09              0            100   \n",
       "62          5.1      3.34        3.14             41             59   \n",
       "63          6.8      3.29        4.95              0            100   \n",
       "64          6.0      4.96        4.59             91              9   \n",
       "65          6.9      5.97        5.87            100              0   \n",
       "174         5.1      3.70        3.59             52             48   \n",
       "175         6.6      6.40        5.09              0            100   \n",
       "176         5.4      4.10        3.57             93              7   \n",
       "177         8.0      3.73        6.18              0            100   \n",
       "178         7.4      6.77        4.67              0            100   \n",
       "179         6.6      5.15        4.72             18             82   \n",
       "246         5.0      3.76        3.42             74             26   \n",
       "247         6.6      6.26        4.91              0            100   \n",
       "248         5.6      3.96        3.30             92              8   \n",
       "249         6.9      4.17        4.60              0            100   \n",
       "250         6.3      5.70        4.72              0            100   \n",
       "251         6.9      4.98        5.30            100              0   \n",
       "294         5.1      3.73        3.27             44             56   \n",
       "295         7.5      7.03        3.83              0            100   \n",
       "296         4.9      4.28        3.35             77             23   \n",
       "297         6.8      3.85        5.19              0            100   \n",
       "298         6.9      5.28        4.79              0            100   \n",
       "299         6.4      5.50        5.43             95              5   \n",
       "318         5.3      3.59        3.45             55             45   \n",
       "319         6.2      6.18        4.74             81             19   \n",
       "320         4.7      3.96        3.49             37             63   \n",
       "321         7.2      3.32        4.94              0            100   \n",
       "322         6.4      5.67        4.50             76             24   \n",
       "323         6.4      5.61        4.90             82             18   \n",
       "\n",
       "     s_tempssursegment  s_distancesursegment  s_longueursegment  \\\n",
       "60                 564                   944                733   \n",
       "61                 264                   691                668   \n",
       "62                 534                   862                668   \n",
       "63                 258                   658                632   \n",
       "64                 282                   665                655   \n",
       "65                  51                   154                147   \n",
       "174                504                   931                733   \n",
       "175                267                   699                668   \n",
       "176                486                   892                668   \n",
       "177                201                   639                632   \n",
       "178                282                   678                655   \n",
       "179                 63                   153                148   \n",
       "246                561                   986                733   \n",
       "247                276                   697                668   \n",
       "248                528                   898                668   \n",
       "249                285                   674                632   \n",
       "250                273                   663                655   \n",
       "251                 57                   155                149   \n",
       "294                639                  1073                733   \n",
       "295                387                   762                668   \n",
       "296                531                   914                668   \n",
       "297                249                   664                632   \n",
       "298                273                   673                655   \n",
       "299                 57                   159                151   \n",
       "318                549                   974                733   \n",
       "319                279                   680                668   \n",
       "320                528                   947                668   \n",
       "321                261                   663                632   \n",
       "322                288                   666                655   \n",
       "323                 63                   159                148   \n",
       "\n",
       "     s_rankentersegment  s_leg  \n",
       "60                    1      1  \n",
       "61                   18      2  \n",
       "62                   10      3  \n",
       "63                   19      4  \n",
       "64                   15      5  \n",
       "65                   14      6  \n",
       "174                   4      1  \n",
       "175                   1      2  \n",
       "176                   1      3  \n",
       "177                   1      4  \n",
       "178                   1      5  \n",
       "179                   1      6  \n",
       "246                  23      1  \n",
       "247                  16      2  \n",
       "248                  14      3  \n",
       "249                  21      4  \n",
       "250                  25      5  \n",
       "251                  18      6  \n",
       "294                  27      1  \n",
       "295                  42      2  \n",
       "296                  54      3  \n",
       "297                  50      4  \n",
       "298                  50      5  \n",
       "299                  50      6  \n",
       "318                  10      1  \n",
       "319                  12      2  \n",
       "320                  11      3  \n",
       "321                  15      4  \n",
       "322                  14      5  \n",
       "323                  17      6  "
      ]
     },
     "execution_count": 3,
     "metadata": {},
     "output_type": "execute_result"
    }
   ],
   "source": [
    "#Noel A0708\n",
    "#Briez A0183\n",
    "#Ganivez A0535\n",
    "#Swinyard A0354\n",
    "#vonck A0309\n",
    "\n",
    "selection = df[df.id.isin(['A0535', 'A0708', 'A0183', 'A0354', 'A0309'])]\n",
    "\n",
    "stat_selection = '_avgspeed'#'_distancesursegment'\n",
    "stat_compare = '_avgspeed'#'_longueursegment'\n",
    "selection"
   ]
  },
  {
   "cell_type": "code",
   "execution_count": 4,
   "id": "a5882639-0c20-440d-ab0f-30c597cf68c2",
   "metadata": {
    "jupyter": {
     "source_hidden": true
    },
    "tags": []
   },
   "outputs": [
    {
     "data": {
      "application/vnd.plotly.v1+json": {
       "config": {
        "plotlyServerURL": "https://plot.ly"
       },
       "data": [
        {
         "name": "v moy : 3.44knt",
         "text": [
          1,
          4,
          23,
          27,
          10
         ],
         "type": "bar",
         "x": [
          "Briez T.",
          "Ganivet C.",
          "Noel T.",
          "Swinyard E.",
          "Vonck M."
         ],
         "xaxis": "x",
         "y": [
          3.25,
          3.59,
          3.42,
          3.27,
          3.45
         ],
         "yaxis": "y"
        },
        {
         "name": "v moy : 4.7knt",
         "text": [
          18,
          1,
          16,
          42,
          12
         ],
         "type": "bar",
         "x": [
          "Briez T.",
          "Ganivet C.",
          "Noel T.",
          "Swinyard E.",
          "Vonck M."
         ],
         "xaxis": "x2",
         "y": [
          5.09,
          5.09,
          4.91,
          3.83,
          4.74
         ],
         "yaxis": "y2"
        },
        {
         "name": "v moy : 3.46knt",
         "text": [
          10,
          1,
          14,
          54,
          11
         ],
         "type": "bar",
         "x": [
          "Briez T.",
          "Ganivet C.",
          "Noel T.",
          "Swinyard E.",
          "Vonck M."
         ],
         "xaxis": "x3",
         "y": [
          3.14,
          3.57,
          3.3,
          3.35,
          3.49
         ],
         "yaxis": "y3"
        },
        {
         "name": "v moy : 5.12knt",
         "text": [
          19,
          1,
          21,
          50,
          15
         ],
         "type": "bar",
         "x": [
          "Briez T.",
          "Ganivet C.",
          "Noel T.",
          "Swinyard E.",
          "Vonck M."
         ],
         "xaxis": "x4",
         "y": [
          4.95,
          6.18,
          4.6,
          5.19,
          4.94
         ],
         "yaxis": "y4"
        },
        {
         "name": "v moy : 4.6knt",
         "text": [
          15,
          1,
          25,
          50,
          14
         ],
         "type": "bar",
         "x": [
          "Briez T.",
          "Ganivet C.",
          "Noel T.",
          "Swinyard E.",
          "Vonck M."
         ],
         "xaxis": "x5",
         "y": [
          4.59,
          4.67,
          4.72,
          4.79,
          4.5
         ],
         "yaxis": "y5"
        },
        {
         "name": "v moy : 5.08knt",
         "text": [
          14,
          1,
          18,
          50,
          17
         ],
         "type": "bar",
         "x": [
          "Briez T.",
          "Ganivet C.",
          "Noel T.",
          "Swinyard E.",
          "Vonck M."
         ],
         "xaxis": "x6",
         "y": [
          5.87,
          4.72,
          5.3,
          5.43,
          4.9
         ],
         "yaxis": "y6"
        }
       ],
       "layout": {
        "annotations": [
         {
          "font": {
           "size": 16
          },
          "showarrow": false,
          "text": "Départ -> 1 (près)",
          "x": 0.225,
          "xanchor": "center",
          "xref": "paper",
          "y": 1,
          "yanchor": "bottom",
          "yref": "paper"
         },
         {
          "font": {
           "size": 16
          },
          "showarrow": false,
          "text": "Leg 2",
          "x": 0.775,
          "xanchor": "center",
          "xref": "paper",
          "y": 1,
          "yanchor": "bottom",
          "yref": "paper"
         },
         {
          "font": {
           "size": 16
          },
          "showarrow": false,
          "text": "Leg 3",
          "x": 0.225,
          "xanchor": "center",
          "xref": "paper",
          "y": 0.6111111111111112,
          "yanchor": "bottom",
          "yref": "paper"
         },
         {
          "font": {
           "size": 16
          },
          "showarrow": false,
          "text": "Leg 4",
          "x": 0.775,
          "xanchor": "center",
          "xref": "paper",
          "y": 0.6111111111111112,
          "yanchor": "bottom",
          "yref": "paper"
         },
         {
          "font": {
           "size": 16
          },
          "showarrow": false,
          "text": "Leg 5",
          "x": 0.225,
          "xanchor": "center",
          "xref": "paper",
          "y": 0.22222222222222224,
          "yanchor": "bottom",
          "yref": "paper"
         },
         {
          "font": {
           "size": 16
          },
          "showarrow": false,
          "text": "3 -> arrivée (travers)",
          "x": 0.775,
          "xanchor": "center",
          "xref": "paper",
          "y": 0.22222222222222224,
          "yanchor": "bottom",
          "yref": "paper"
         }
        ],
        "height": 900,
        "shapes": [
         {
          "line": {
           "color": "red"
          },
          "type": "line",
          "x0": 0,
          "x1": 1,
          "xref": "x domain",
          "y0": 3.4409090909090905,
          "y1": 3.4409090909090905,
          "yref": "y"
         },
         {
          "line": {
           "color": "red"
          },
          "type": "line",
          "x0": 0,
          "x1": 1,
          "xref": "x2 domain",
          "y0": 4.6952727272727275,
          "y1": 4.6952727272727275,
          "yref": "y2"
         },
         {
          "line": {
           "color": "red"
          },
          "type": "line",
          "x0": 0,
          "x1": 1,
          "xref": "x3 domain",
          "y0": 3.456181818181818,
          "y1": 3.456181818181818,
          "yref": "y3"
         },
         {
          "line": {
           "color": "red"
          },
          "type": "line",
          "x0": 0,
          "x1": 1,
          "xref": "x4 domain",
          "y0": 5.124727272727273,
          "y1": 5.124727272727273,
          "yref": "y4"
         },
         {
          "line": {
           "color": "red"
          },
          "type": "line",
          "x0": 0,
          "x1": 1,
          "xref": "x5 domain",
          "y0": 4.6009090909090915,
          "y1": 4.6009090909090915,
          "yref": "y5"
         },
         {
          "line": {
           "color": "red"
          },
          "type": "line",
          "x0": 0,
          "x1": 1,
          "xref": "x6 domain",
          "y0": 5.0787272727272725,
          "y1": 5.0787272727272725,
          "yref": "y6"
         }
        ],
        "template": {
         "data": {
          "bar": [
           {
            "error_x": {
             "color": "#2a3f5f"
            },
            "error_y": {
             "color": "#2a3f5f"
            },
            "marker": {
             "line": {
              "color": "#E5ECF6",
              "width": 0.5
             },
             "pattern": {
              "fillmode": "overlay",
              "size": 10,
              "solidity": 0.2
             }
            },
            "type": "bar"
           }
          ],
          "barpolar": [
           {
            "marker": {
             "line": {
              "color": "#E5ECF6",
              "width": 0.5
             },
             "pattern": {
              "fillmode": "overlay",
              "size": 10,
              "solidity": 0.2
             }
            },
            "type": "barpolar"
           }
          ],
          "carpet": [
           {
            "aaxis": {
             "endlinecolor": "#2a3f5f",
             "gridcolor": "white",
             "linecolor": "white",
             "minorgridcolor": "white",
             "startlinecolor": "#2a3f5f"
            },
            "baxis": {
             "endlinecolor": "#2a3f5f",
             "gridcolor": "white",
             "linecolor": "white",
             "minorgridcolor": "white",
             "startlinecolor": "#2a3f5f"
            },
            "type": "carpet"
           }
          ],
          "choropleth": [
           {
            "colorbar": {
             "outlinewidth": 0,
             "ticks": ""
            },
            "type": "choropleth"
           }
          ],
          "contour": [
           {
            "colorbar": {
             "outlinewidth": 0,
             "ticks": ""
            },
            "colorscale": [
             [
              0,
              "#0d0887"
             ],
             [
              0.1111111111111111,
              "#46039f"
             ],
             [
              0.2222222222222222,
              "#7201a8"
             ],
             [
              0.3333333333333333,
              "#9c179e"
             ],
             [
              0.4444444444444444,
              "#bd3786"
             ],
             [
              0.5555555555555556,
              "#d8576b"
             ],
             [
              0.6666666666666666,
              "#ed7953"
             ],
             [
              0.7777777777777778,
              "#fb9f3a"
             ],
             [
              0.8888888888888888,
              "#fdca26"
             ],
             [
              1,
              "#f0f921"
             ]
            ],
            "type": "contour"
           }
          ],
          "contourcarpet": [
           {
            "colorbar": {
             "outlinewidth": 0,
             "ticks": ""
            },
            "type": "contourcarpet"
           }
          ],
          "heatmap": [
           {
            "colorbar": {
             "outlinewidth": 0,
             "ticks": ""
            },
            "colorscale": [
             [
              0,
              "#0d0887"
             ],
             [
              0.1111111111111111,
              "#46039f"
             ],
             [
              0.2222222222222222,
              "#7201a8"
             ],
             [
              0.3333333333333333,
              "#9c179e"
             ],
             [
              0.4444444444444444,
              "#bd3786"
             ],
             [
              0.5555555555555556,
              "#d8576b"
             ],
             [
              0.6666666666666666,
              "#ed7953"
             ],
             [
              0.7777777777777778,
              "#fb9f3a"
             ],
             [
              0.8888888888888888,
              "#fdca26"
             ],
             [
              1,
              "#f0f921"
             ]
            ],
            "type": "heatmap"
           }
          ],
          "heatmapgl": [
           {
            "colorbar": {
             "outlinewidth": 0,
             "ticks": ""
            },
            "colorscale": [
             [
              0,
              "#0d0887"
             ],
             [
              0.1111111111111111,
              "#46039f"
             ],
             [
              0.2222222222222222,
              "#7201a8"
             ],
             [
              0.3333333333333333,
              "#9c179e"
             ],
             [
              0.4444444444444444,
              "#bd3786"
             ],
             [
              0.5555555555555556,
              "#d8576b"
             ],
             [
              0.6666666666666666,
              "#ed7953"
             ],
             [
              0.7777777777777778,
              "#fb9f3a"
             ],
             [
              0.8888888888888888,
              "#fdca26"
             ],
             [
              1,
              "#f0f921"
             ]
            ],
            "type": "heatmapgl"
           }
          ],
          "histogram": [
           {
            "marker": {
             "pattern": {
              "fillmode": "overlay",
              "size": 10,
              "solidity": 0.2
             }
            },
            "type": "histogram"
           }
          ],
          "histogram2d": [
           {
            "colorbar": {
             "outlinewidth": 0,
             "ticks": ""
            },
            "colorscale": [
             [
              0,
              "#0d0887"
             ],
             [
              0.1111111111111111,
              "#46039f"
             ],
             [
              0.2222222222222222,
              "#7201a8"
             ],
             [
              0.3333333333333333,
              "#9c179e"
             ],
             [
              0.4444444444444444,
              "#bd3786"
             ],
             [
              0.5555555555555556,
              "#d8576b"
             ],
             [
              0.6666666666666666,
              "#ed7953"
             ],
             [
              0.7777777777777778,
              "#fb9f3a"
             ],
             [
              0.8888888888888888,
              "#fdca26"
             ],
             [
              1,
              "#f0f921"
             ]
            ],
            "type": "histogram2d"
           }
          ],
          "histogram2dcontour": [
           {
            "colorbar": {
             "outlinewidth": 0,
             "ticks": ""
            },
            "colorscale": [
             [
              0,
              "#0d0887"
             ],
             [
              0.1111111111111111,
              "#46039f"
             ],
             [
              0.2222222222222222,
              "#7201a8"
             ],
             [
              0.3333333333333333,
              "#9c179e"
             ],
             [
              0.4444444444444444,
              "#bd3786"
             ],
             [
              0.5555555555555556,
              "#d8576b"
             ],
             [
              0.6666666666666666,
              "#ed7953"
             ],
             [
              0.7777777777777778,
              "#fb9f3a"
             ],
             [
              0.8888888888888888,
              "#fdca26"
             ],
             [
              1,
              "#f0f921"
             ]
            ],
            "type": "histogram2dcontour"
           }
          ],
          "mesh3d": [
           {
            "colorbar": {
             "outlinewidth": 0,
             "ticks": ""
            },
            "type": "mesh3d"
           }
          ],
          "parcoords": [
           {
            "line": {
             "colorbar": {
              "outlinewidth": 0,
              "ticks": ""
             }
            },
            "type": "parcoords"
           }
          ],
          "pie": [
           {
            "automargin": true,
            "type": "pie"
           }
          ],
          "scatter": [
           {
            "fillpattern": {
             "fillmode": "overlay",
             "size": 10,
             "solidity": 0.2
            },
            "type": "scatter"
           }
          ],
          "scatter3d": [
           {
            "line": {
             "colorbar": {
              "outlinewidth": 0,
              "ticks": ""
             }
            },
            "marker": {
             "colorbar": {
              "outlinewidth": 0,
              "ticks": ""
             }
            },
            "type": "scatter3d"
           }
          ],
          "scattercarpet": [
           {
            "marker": {
             "colorbar": {
              "outlinewidth": 0,
              "ticks": ""
             }
            },
            "type": "scattercarpet"
           }
          ],
          "scattergeo": [
           {
            "marker": {
             "colorbar": {
              "outlinewidth": 0,
              "ticks": ""
             }
            },
            "type": "scattergeo"
           }
          ],
          "scattergl": [
           {
            "marker": {
             "colorbar": {
              "outlinewidth": 0,
              "ticks": ""
             }
            },
            "type": "scattergl"
           }
          ],
          "scattermapbox": [
           {
            "marker": {
             "colorbar": {
              "outlinewidth": 0,
              "ticks": ""
             }
            },
            "type": "scattermapbox"
           }
          ],
          "scatterpolar": [
           {
            "marker": {
             "colorbar": {
              "outlinewidth": 0,
              "ticks": ""
             }
            },
            "type": "scatterpolar"
           }
          ],
          "scatterpolargl": [
           {
            "marker": {
             "colorbar": {
              "outlinewidth": 0,
              "ticks": ""
             }
            },
            "type": "scatterpolargl"
           }
          ],
          "scatterternary": [
           {
            "marker": {
             "colorbar": {
              "outlinewidth": 0,
              "ticks": ""
             }
            },
            "type": "scatterternary"
           }
          ],
          "surface": [
           {
            "colorbar": {
             "outlinewidth": 0,
             "ticks": ""
            },
            "colorscale": [
             [
              0,
              "#0d0887"
             ],
             [
              0.1111111111111111,
              "#46039f"
             ],
             [
              0.2222222222222222,
              "#7201a8"
             ],
             [
              0.3333333333333333,
              "#9c179e"
             ],
             [
              0.4444444444444444,
              "#bd3786"
             ],
             [
              0.5555555555555556,
              "#d8576b"
             ],
             [
              0.6666666666666666,
              "#ed7953"
             ],
             [
              0.7777777777777778,
              "#fb9f3a"
             ],
             [
              0.8888888888888888,
              "#fdca26"
             ],
             [
              1,
              "#f0f921"
             ]
            ],
            "type": "surface"
           }
          ],
          "table": [
           {
            "cells": {
             "fill": {
              "color": "#EBF0F8"
             },
             "line": {
              "color": "white"
             }
            },
            "header": {
             "fill": {
              "color": "#C8D4E3"
             },
             "line": {
              "color": "white"
             }
            },
            "type": "table"
           }
          ]
         },
         "layout": {
          "annotationdefaults": {
           "arrowcolor": "#2a3f5f",
           "arrowhead": 0,
           "arrowwidth": 1
          },
          "autotypenumbers": "strict",
          "coloraxis": {
           "colorbar": {
            "outlinewidth": 0,
            "ticks": ""
           }
          },
          "colorscale": {
           "diverging": [
            [
             0,
             "#8e0152"
            ],
            [
             0.1,
             "#c51b7d"
            ],
            [
             0.2,
             "#de77ae"
            ],
            [
             0.3,
             "#f1b6da"
            ],
            [
             0.4,
             "#fde0ef"
            ],
            [
             0.5,
             "#f7f7f7"
            ],
            [
             0.6,
             "#e6f5d0"
            ],
            [
             0.7,
             "#b8e186"
            ],
            [
             0.8,
             "#7fbc41"
            ],
            [
             0.9,
             "#4d9221"
            ],
            [
             1,
             "#276419"
            ]
           ],
           "sequential": [
            [
             0,
             "#0d0887"
            ],
            [
             0.1111111111111111,
             "#46039f"
            ],
            [
             0.2222222222222222,
             "#7201a8"
            ],
            [
             0.3333333333333333,
             "#9c179e"
            ],
            [
             0.4444444444444444,
             "#bd3786"
            ],
            [
             0.5555555555555556,
             "#d8576b"
            ],
            [
             0.6666666666666666,
             "#ed7953"
            ],
            [
             0.7777777777777778,
             "#fb9f3a"
            ],
            [
             0.8888888888888888,
             "#fdca26"
            ],
            [
             1,
             "#f0f921"
            ]
           ],
           "sequentialminus": [
            [
             0,
             "#0d0887"
            ],
            [
             0.1111111111111111,
             "#46039f"
            ],
            [
             0.2222222222222222,
             "#7201a8"
            ],
            [
             0.3333333333333333,
             "#9c179e"
            ],
            [
             0.4444444444444444,
             "#bd3786"
            ],
            [
             0.5555555555555556,
             "#d8576b"
            ],
            [
             0.6666666666666666,
             "#ed7953"
            ],
            [
             0.7777777777777778,
             "#fb9f3a"
            ],
            [
             0.8888888888888888,
             "#fdca26"
            ],
            [
             1,
             "#f0f921"
            ]
           ]
          },
          "colorway": [
           "#636efa",
           "#EF553B",
           "#00cc96",
           "#ab63fa",
           "#FFA15A",
           "#19d3f3",
           "#FF6692",
           "#B6E880",
           "#FF97FF",
           "#FECB52"
          ],
          "font": {
           "color": "#2a3f5f"
          },
          "geo": {
           "bgcolor": "white",
           "lakecolor": "white",
           "landcolor": "#E5ECF6",
           "showlakes": true,
           "showland": true,
           "subunitcolor": "white"
          },
          "hoverlabel": {
           "align": "left"
          },
          "hovermode": "closest",
          "mapbox": {
           "style": "light"
          },
          "paper_bgcolor": "white",
          "plot_bgcolor": "#E5ECF6",
          "polar": {
           "angularaxis": {
            "gridcolor": "white",
            "linecolor": "white",
            "ticks": ""
           },
           "bgcolor": "#E5ECF6",
           "radialaxis": {
            "gridcolor": "white",
            "linecolor": "white",
            "ticks": ""
           }
          },
          "scene": {
           "xaxis": {
            "backgroundcolor": "#E5ECF6",
            "gridcolor": "white",
            "gridwidth": 2,
            "linecolor": "white",
            "showbackground": true,
            "ticks": "",
            "zerolinecolor": "white"
           },
           "yaxis": {
            "backgroundcolor": "#E5ECF6",
            "gridcolor": "white",
            "gridwidth": 2,
            "linecolor": "white",
            "showbackground": true,
            "ticks": "",
            "zerolinecolor": "white"
           },
           "zaxis": {
            "backgroundcolor": "#E5ECF6",
            "gridcolor": "white",
            "gridwidth": 2,
            "linecolor": "white",
            "showbackground": true,
            "ticks": "",
            "zerolinecolor": "white"
           }
          },
          "shapedefaults": {
           "line": {
            "color": "#2a3f5f"
           }
          },
          "ternary": {
           "aaxis": {
            "gridcolor": "white",
            "linecolor": "white",
            "ticks": ""
           },
           "baxis": {
            "gridcolor": "white",
            "linecolor": "white",
            "ticks": ""
           },
           "bgcolor": "#E5ECF6",
           "caxis": {
            "gridcolor": "white",
            "linecolor": "white",
            "ticks": ""
           }
          },
          "title": {
           "x": 0.05
          },
          "xaxis": {
           "automargin": true,
           "gridcolor": "white",
           "linecolor": "white",
           "ticks": "",
           "title": {
            "standoff": 15
           },
           "zerolinecolor": "white",
           "zerolinewidth": 2
          },
          "yaxis": {
           "automargin": true,
           "gridcolor": "white",
           "linecolor": "white",
           "ticks": "",
           "title": {
            "standoff": 15
           },
           "zerolinecolor": "white",
           "zerolinewidth": 2
          }
         }
        },
        "title": {
         "text": "M9 :: Vitesse moyenne / flotte par segment"
        },
        "xaxis": {
         "anchor": "y",
         "domain": [
          0,
          0.45
         ]
        },
        "xaxis2": {
         "anchor": "y2",
         "domain": [
          0.55,
          1
         ]
        },
        "xaxis3": {
         "anchor": "y3",
         "domain": [
          0,
          0.45
         ]
        },
        "xaxis4": {
         "anchor": "y4",
         "domain": [
          0.55,
          1
         ]
        },
        "xaxis5": {
         "anchor": "y5",
         "domain": [
          0,
          0.45
         ]
        },
        "xaxis6": {
         "anchor": "y6",
         "domain": [
          0.55,
          1
         ]
        },
        "yaxis": {
         "anchor": "x",
         "domain": [
          0.7777777777777778,
          1
         ],
         "type": "log"
        },
        "yaxis2": {
         "anchor": "x2",
         "domain": [
          0.7777777777777778,
          1
         ],
         "type": "log"
        },
        "yaxis3": {
         "anchor": "x3",
         "domain": [
          0.3888888888888889,
          0.6111111111111112
         ],
         "type": "log"
        },
        "yaxis4": {
         "anchor": "x4",
         "domain": [
          0.3888888888888889,
          0.6111111111111112
         ],
         "type": "log"
        },
        "yaxis5": {
         "anchor": "x5",
         "domain": [
          0,
          0.22222222222222224
         ],
         "type": "log"
        },
        "yaxis6": {
         "anchor": "x6",
         "domain": [
          0,
          0.22222222222222224
         ],
         "type": "log"
        }
       }
      }
     },
     "metadata": {},
     "output_type": "display_data"
    }
   ],
   "source": [
    "import plotly.graph_objects as go\n",
    "from plotly.subplots import make_subplots\n",
    "import numpy as np\n",
    "\n",
    "def add_graph(index, fig, row, col):\n",
    "    m = df[df.s_leg == int(index)]\n",
    "    mean = np.nanmean(m['s' + stat_compare])\n",
    "    rows = selection[selection.s_leg == int(index)]\n",
    "\n",
    "    t = go.Bar(\n",
    "        x=rows.nom, \n",
    "        y=rows['s' + stat_selection],\n",
    "        name='v moy : ' + str(round(mean, 2)) + 'knt',\n",
    "        text=rows['s_rankentersegment']\n",
    "    )\n",
    "    \n",
    "    fig.append_trace(t, row, col)\n",
    "    fig.add_hline(y=mean, line_color='red', row=row, col=col)\n",
    "\n",
    "fig_rows = 3\n",
    "fig_cols = 2\n",
    "\n",
    "fig = make_subplots(rows=fig_rows, cols=fig_cols, start_cell='top-left', subplot_titles=(\"Départ -> 1 (près)\", \"Leg 2\", \"Leg 3\", \"Leg 4\", \"Leg 5\", \"3 -> arrivée (travers)\"))\n",
    "index = 1\n",
    "for row in range(fig_rows):\n",
    "    for col in range(fig_cols):\n",
    "        add_graph(str(index), fig, row + 1, col + 1)\n",
    "        index += 1\n",
    "\n",
    "\n",
    "fig.update_layout(title_text= manche + ' :: Vitesse moyenne / flotte par segment', height=900)\n",
    "fig.update_yaxes(type='log')\n",
    "fig.show()\n"
   ]
  },
  {
   "cell_type": "code",
   "execution_count": 5,
   "id": "a25447be",
   "metadata": {},
   "outputs": [],
   "source": [
    "content = \"\"\"<!--<main id=\"evento-single-container-main-ajax\" class=\"single-content\">-->\\n    <div class=\"container-fluid full-width\">\\n        <!-- single content 428 -->\\n        <!-- template-parts/event -->\\n<div class=\"row\">\\n    <div class=\"col-md-12\">\\n        <div class=\"single-event-header\">\\n            <h5 class=\"d-flex align-items-center\">Championnats de France Minimes 2023</h5>\\n            <p>July 11th - 14th 2023</p>\\n        </div>\\n    </div>\\n</div>\\n<div class=\"row\">\\n    <div class=\"col-sm-4\">\\n        <div class=\"single-event-logo\" style=\"text-align: center;\">\\n            <img src=\"https://app.metasail.it/images/eventi/428.jpg\"\\n                 alt=\"Championnats de France Minimes 2023\"/>\\n        </div>\\n\\t\\t\\t\\t\\n\\t\\t            <div class=\"single-event-classi\">\\n                <div>\\n                    <dt>Category</dt>\\n\\t\\t\\t\\t\\t                    <dl>Optimist, Optimist Filles, Optimist Garcons, Open Skiff Garcons, Techno Filles, Techno Garcons, Open Skiff Filles, Feva, Tika</dl>\\n                </div>\\n            </div>\\n\\t\\t\\t\\t            <div class=\"single-event-site\">\\n                <a href=\"https://evenements.ffvoile.fr/championnats-de-france-jeunes/cfm-infos-sur-lepreuve/\"\\n                   target=\"_blank\">Go to the official website</a>\\n            </div>\\n\\t\\t    </div>\\n    <div class=\"col-sm-8\">\\n\\t\\t\\n            <div class=\"single-block-list\">\\n\\t\\t\\t\\t                    <h4>13/07/2023</h4>\\n                    <ul>\\n\\t\\t\\t\\t\\t\\t                           \\n                            <li>\\n                                <div class=\"event-name\" data-order=\"1_open-skiff-filles_09996\">\\n                                    <p>\\n                                       <a href=\"https://app.metasail.it/ViewRecordedRace2018.aspx?idgara=20453&token=Y1XU\" target=\"_blank\">\\n                                            <strong>Open Skiff Filles R 13</strong>\\n                                             <span class=\"event-toolbar\">\\n                                                                                       \\n                                                                                    </span>\\n                                        </a>\\n                                    </p>\\n\\t\\t\\t\\t\\t\\t\\t\\t\\t                                </div>\\n\\n\\n                            </li>\\n\\t\\t\\t\\t\\t\\t                           \\n                            <li>\\n                                <div class=\"event-name\" data-order=\"1_open-skiff-garcons_09996\">\\n                                    <p>\\n                                       <a href=\"https://app.metasail.it/ViewRecordedRace2018.aspx?idgara=20452&token=Y1XU\" target=\"_blank\">\\n                                            <strong>Open Skiff Garcons R 13</strong>\\n                                             <span class=\"event-toolbar\">\\n                                                                                       \\n                                                                                    </span>\\n                                        </a>\\n                                    </p>\\n\\t\\t\\t\\t\\t\\t\\t\\t\\t                                </div>\\n\\n\\n                            </li>\\n\\t\\t\\t\\t\\t\\t                           \\n                            <li>\\n                                <div class=\"event-name\" data-order=\"1_optimist-filles_09997\">\\n                                    <p>\\n                                       <a href=\"https://app.metasail.it/ViewRecordedRace2018.aspx?idgara=20454&token=Y1XU\" target=\"_blank\">\\n                                            <strong>Optimist Filles R 12</strong>\\n                                             <span class=\"event-toolbar\">\\n                                                                                       \\n                                                                                    </span>\\n                                        </a>\\n                                    </p>\\n\\t\\t\\t\\t\\t\\t\\t\\t\\t                                </div>\\n\\n\\n                            </li>\\n\\t\\t\\t\\t\\t\\t                           \\n                            <li>\\n                                <div class=\"event-name\" data-order=\"1_optimist-filles_09999\">\\n                                    <p>\\n                                       <a href=\"https://app.metasail.it/ViewRecordedRace2018.aspx?idgara=20447&token=Y1XU\" target=\"_blank\">\\n                                            <strong>Optimist Filles general recall R 12</strong>\\n                                             <span class=\"event-toolbar\">\\n                                                                                       \\n                                                                                    </span>\\n                                        </a>\\n                                    </p>\\n\\t\\t\\t\\t\\t\\t\\t\\t\\t                                </div>\\n\\n\\n                            </li>\\n\\t\\t\\t\\t\\t\\t                           \\n                            <li>\\n                                <div class=\"event-name\" data-order=\"1_optimist-garcons_09997\">\\n                                    <p>\\n                                       <a href=\"https://app.metasail.it/ViewRecordedRace2018.aspx?idgara=20446&token=Y1XU\" target=\"_blank\">\\n                                            <strong>Optimist Garcons general recall R 12</strong>\\n                                             <span class=\"event-toolbar\">\\n                                                                                       \\n                                                                                    </span>\\n                                        </a>\\n                                    </p>\\n\\t\\t\\t\\t\\t\\t\\t\\t\\t                                </div>\\n\\n\\n                            </li>\\n\\t\\t\\t\\t\\t\\t                           \\n                            <li>\\n                                <div class=\"event-name\" data-order=\"1_optimist-garcons_09999\">\\n                                    <p>\\n                                       <a href=\"https://app.metasail.it/ViewRecordedRace2018.aspx?idgara=20459&token=Y1XU\" target=\"_blank\">\\n                                            <strong>Optimist Garcons abandoned R 12</strong>\\n                                             <span class=\"event-toolbar\">\\n                                                                                       \\n                                                                                    </span>\\n                                        </a>\\n                                    </p>\\n\\t\\t\\t\\t\\t\\t\\t\\t\\t                                </div>\\n\\n\\n                            </li>\\n\\t\\t\\t\\t\\t\\t                           \\n                            <li>\\n                                <div class=\"event-name\" data-order=\"1_techno-filles_09997\">\\n                                    <p>\\n                                       <a href=\"https://app.metasail.it/ViewRecordedRace2018.aspx?idgara=20457&token=Y1XU\" target=\"_blank\">\\n                                            <strong>Techno Filles R 12</strong>\\n                                             <span class=\"event-toolbar\">\\n                                                                                       \\n                                                                                    </span>\\n                                        </a>\\n                                    </p>\\n\\t\\t\\t\\t\\t\\t\\t\\t\\t                                </div>\\n\\n\\n                            </li>\\n\\t\\t\\t\\t\\t\\t                           \\n                            <li>\\n                                <div class=\"event-name\" data-order=\"1_techno-garcons_09999\">\\n                                    <p>\\n                                       <a href=\"https://app.metasail.it/ViewRecordedRace2018.aspx?idgara=20456&token=Y1XU\" target=\"_blank\">\\n                                            <strong>Techno Garcons R 12</strong>\\n                                             <span class=\"event-toolbar\">\\n                                                                                       \\n                                                                                    </span>\\n                                        </a>\\n                                    </p>\\n\\t\\t\\t\\t\\t\\t\\t\\t\\t                                </div>\\n\\n\\n                            </li>\\n\\t\\t\\t\\t\\t\\t                    </ul>\\n\\t\\t\\t\\t                    <h4>12/07/2023</h4>\\n                    <ul>\\n\\t\\t\\t\\t\\t\\t                           \\n                            <li>\\n                                <div class=\"event-name\" data-order=\"1_feva_09988\">\\n                                    <p>\\n                                       <a href=\"https://app.metasail.it/ViewRecordedRace2018.aspx?idgara=20408&token=Y1XU\" target=\"_blank\">\\n                                            <strong>Feva R 11</strong>\\n                                             <span class=\"event-toolbar\">\\n                                                                                       \\n                                                                                    </span>\\n                                        </a>\\n                                    </p>\\n\\t\\t\\t\\t\\t\\t\\t\\t\\t                                </div>\\n\\n\\n                            </li>\\n\\t\\t\\t\\t\\t\\t                           \\n                            <li>\\n                                <div class=\"event-name\" data-order=\"1_feva_09999\">\\n                                    <p>\\n                                       <a href=\"https://app.metasail.it/ViewRecordedRace2018.aspx?idgara=20399&token=Y1XU\" target=\"_blank\">\\n                                            <strong>Feva R 10</strong>\\n                                             <span class=\"event-toolbar\">\\n                                                                                       \\n                                                                                    </span>\\n                                        </a>\\n                                    </p>\\n\\t\\t\\t\\t\\t\\t\\t\\t\\t                                </div>\\n\\n\\n                            </li>\\n\\t\\t\\t\\t\\t\\t                           \\n                            <li>\\n                                <div class=\"event-name\" data-order=\"1_open-skiff-filles_09987\">\\n                                    <p>\\n                                       <a href=\"https://app.metasail.it/ViewRecordedRace2018.aspx?idgara=20416&token=Y1XU\" target=\"_blank\">\\n                                            <strong>Open Skiff Filles R 12</strong>\\n                                             <span class=\"event-toolbar\">\\n                                                                                       \\n                                                                                    </span>\\n                                        </a>\\n                                    </p>\\n\\t\\t\\t\\t\\t\\t\\t\\t\\t                                </div>\\n\\n\\n                            </li>\\n\\t\\t\\t\\t\\t\\t                           \\n                            <li>\\n                                <div class=\"event-name\" data-order=\"1_open-skiff-filles_09988\">\\n                                    <p>\\n                                       <a href=\"https://app.metasail.it/ViewRecordedRace2018.aspx?idgara=20407&token=Y1XU\" target=\"_blank\">\\n                                            <strong>Open Skiff Filles R 11</strong>\\n                                             <span class=\"event-toolbar\">\\n                                                                                       \\n                                                                                    </span>\\n                                        </a>\\n                                    </p>\\n\\t\\t\\t\\t\\t\\t\\t\\t\\t                                </div>\\n\\n\\n                            </li>\\n\\t\\t\\t\\t\\t\\t                           \\n                            <li>\\n                                <div class=\"event-name\" data-order=\"1_open-skiff-filles_09999\">\\n                                    <p>\\n                                       <a href=\"https://app.metasail.it/ViewRecordedRace2018.aspx?idgara=20393&token=Y1XU\" target=\"_blank\">\\n                                            <strong>Open Skiff Filles R 10</strong>\\n                                             <span class=\"event-toolbar\">\\n                                                                                       \\n                                                                                    </span>\\n                                        </a>\\n                                    </p>\\n\\t\\t\\t\\t\\t\\t\\t\\t\\t                                </div>\\n\\n\\n                            </li>\\n\\t\\t\\t\\t\\t\\t                           \\n                            <li>\\n                                <div class=\"event-name\" data-order=\"1_open-skiff-garcons_09987\">\\n                                    <p>\\n                                       <a href=\"https://app.metasail.it/ViewRecordedRace2018.aspx?idgara=20418&token=Y1XU\" target=\"_blank\">\\n                                            <strong>Open Skiff Garcons R 12</strong>\\n                                             <span class=\"event-toolbar\">\\n                                                                                       \\n                                                                                    </span>\\n                                        </a>\\n                                    </p>\\n\\t\\t\\t\\t\\t\\t\\t\\t\\t                                </div>\\n\\n\\n                            </li>\\n\\t\\t\\t\\t\\t\\t                           \\n                            <li>\\n                                <div class=\"event-name\" data-order=\"1_open-skiff-garcons_09988\">\\n                                    <p>\\n                                       <a href=\"https://app.metasail.it/ViewRecordedRace2018.aspx?idgara=20409&token=Y1XU\" target=\"_blank\">\\n                                            <strong>Open Skiff Garcons R 11</strong>\\n                                             <span class=\"event-toolbar\">\\n                                                                                       \\n                                                                                    </span>\\n                                        </a>\\n                                    </p>\\n\\t\\t\\t\\t\\t\\t\\t\\t\\t                                </div>\\n\\n\\n                            </li>\\n\\t\\t\\t\\t\\t\\t                           \\n                            <li>\\n                                <div class=\"event-name\" data-order=\"1_open-skiff-garcons_09999\">\\n                                    <p>\\n                                       <a href=\"https://app.metasail.it/ViewRecordedRace2018.aspx?idgara=20394&token=Y1XU\" target=\"_blank\">\\n                                            <strong>Open Skiff Garcons R 10</strong>\\n                                             <span class=\"event-toolbar\">\\n                                                                                       \\n                                                                                    </span>\\n                                        </a>\\n                                    </p>\\n\\t\\t\\t\\t\\t\\t\\t\\t\\t                                </div>\\n\\n\\n                            </li>\\n\\t\\t\\t\\t\\t\\t                           \\n                            <li>\\n                                <div class=\"event-name\" data-order=\"1_optimist-filles_09988\">\\n                                    <p>\\n                                       <a href=\"https://app.metasail.it/ViewRecordedRace2018.aspx?idgara=20413&token=Y1XU\" target=\"_blank\">\\n                                            <strong>Optimist Filles R 11</strong>\\n                                             <span class=\"event-toolbar\">\\n                                                                                       \\n                                                                                    </span>\\n                                        </a>\\n                                    </p>\\n\\t\\t\\t\\t\\t\\t\\t\\t\\t                                </div>\\n\\n\\n                            </li>\\n\\t\\t\\t\\t\\t\\t                           \\n                            <li>\\n                                <div class=\"event-name\" data-order=\"1_optimist-filles_09999\">\\n                                    <p>\\n                                       <a href=\"https://app.metasail.it/ViewRecordedRace2018.aspx?idgara=20401&token=Y1XU\" target=\"_blank\">\\n                                            <strong>Optimist Filles R 10</strong>\\n                                             <span class=\"event-toolbar\">\\n                                                                                       \\n                                                                                    </span>\\n                                        </a>\\n                                    </p>\\n\\t\\t\\t\\t\\t\\t\\t\\t\\t                                </div>\\n\\n\\n                            </li>\\n\\t\\t\\t\\t\\t\\t                           \\n                            <li>\\n                                <div class=\"event-name\" data-order=\"1_optimist-garcons_09988\">\\n                                    <p>\\n                                       <a href=\"https://app.metasail.it/ViewRecordedRace2018.aspx?idgara=20411&token=Y1XU\" target=\"_blank\">\\n                                            <strong>Optimist Garcons R 11</strong>\\n                                             <span class=\"event-toolbar\">\\n                                                                                       \\n                                                                                    </span>\\n                                        </a>\\n                                    </p>\\n\\t\\t\\t\\t\\t\\t\\t\\t\\t                                </div>\\n\\n\\n                            </li>\\n\\t\\t\\t\\t\\t\\t                           \\n                            <li>\\n                                <div class=\"event-name\" data-order=\"1_optimist-garcons_09989\">\\n                                    <p>\\n                                       <a href=\"https://app.metasail.it/ViewRecordedRace2018.aspx?idgara=20395&token=Y1XU\" target=\"_blank\">\\n                                            <strong>Optimist Garcons general recall R 10</strong>\\n                                             <span class=\"event-toolbar\">\\n                                                                                       \\n                                                                                    </span>\\n                                        </a>\\n                                    </p>\\n\\t\\t\\t\\t\\t\\t\\t\\t\\t                                </div>\\n\\n\\n                            </li>\\n\\t\\t\\t\\t\\t\\t                           \\n                            <li>\\n                                <div class=\"event-name\" data-order=\"1_optimist-garcons_09999\">\\n                                    <p>\\n                                       <a href=\"https://app.metasail.it/ViewRecordedRace2018.aspx?idgara=20404&token=Y1XU\" target=\"_blank\">\\n                                            <strong>Optimist Garcons R 10</strong>\\n                                             <span class=\"event-toolbar\">\\n                                                                                       \\n                                                                                    </span>\\n                                        </a>\\n                                    </p>\\n\\t\\t\\t\\t\\t\\t\\t\\t\\t                                </div>\\n\\n\\n                            </li>\\n\\t\\t\\t\\t\\t\\t                           \\n                            <li>\\n                                <div class=\"event-name\" data-order=\"1_techno-filles_09988\">\\n                                    <p>\\n                                       <a href=\"https://app.metasail.it/ViewRecordedRace2018.aspx?idgara=20417&token=Y1XU\" target=\"_blank\">\\n                                            <strong>Techno Filles R 11</strong>\\n                                             <span class=\"event-toolbar\">\\n                                                                                       \\n                                                                                    </span>\\n                                        </a>\\n                                    </p>\\n\\t\\t\\t\\t\\t\\t\\t\\t\\t                                </div>\\n\\n\\n                            </li>\\n\\t\\t\\t\\t\\t\\t                           \\n                            <li>\\n                                <div class=\"event-name\" data-order=\"1_techno-filles_09989\">\\n                                    <p>\\n                                       <a href=\"https://app.metasail.it/ViewRecordedRace2018.aspx?idgara=20410&token=Y1XU\" target=\"_blank\">\\n                                            <strong>Techno Filles R 10</strong>\\n                                             <span class=\"event-toolbar\">\\n                                                                                       \\n                                                                                    </span>\\n                                        </a>\\n                                    </p>\\n\\t\\t\\t\\t\\t\\t\\t\\t\\t                                </div>\\n\\n\\n                            </li>\\n\\t\\t\\t\\t\\t\\t                           \\n                            <li>\\n                                <div class=\"event-name\" data-order=\"1_techno-filles_09999\">\\n                                    <p>\\n                                       <a href=\"https://app.metasail.it/ViewRecordedRace2018.aspx?idgara=20405&token=Y1XU\" target=\"_blank\">\\n                                            <strong>Techno Filles R 9</strong>\\n                                             <span class=\"event-toolbar\">\\n                                                                                       \\n                                                                                    </span>\\n                                        </a>\\n                                    </p>\\n\\t\\t\\t\\t\\t\\t\\t\\t\\t                                </div>\\n\\n\\n                            </li>\\n\\t\\t\\t\\t\\t\\t                           \\n                            <li>\\n                                <div class=\"event-name\" data-order=\"1_techno-garcons_09988\">\\n                                    <p>\\n                                       <a href=\"https://app.metasail.it/ViewRecordedRace2018.aspx?idgara=20420&token=Y1XU\" target=\"_blank\">\\n                                            <strong>Techno Garcons R 11</strong>\\n                                             <span class=\"event-toolbar\">\\n                                                                                       \\n                                                                                    </span>\\n                                        </a>\\n                                    </p>\\n\\t\\t\\t\\t\\t\\t\\t\\t\\t                                </div>\\n\\n\\n                            </li>\\n\\t\\t\\t\\t\\t\\t                           \\n                            <li>\\n                                <div class=\"event-name\" data-order=\"1_techno-garcons_09989\">\\n                                    <p>\\n                                       <a href=\"https://app.metasail.it/ViewRecordedRace2018.aspx?idgara=20412&token=Y1XU\" target=\"_blank\">\\n                                            <strong>Techno Garcons R 10</strong>\\n                                             <span class=\"event-toolbar\">\\n                                                                                       \\n                                                                                    </span>\\n                                        </a>\\n                                    </p>\\n\\t\\t\\t\\t\\t\\t\\t\\t\\t                                </div>\\n\\n\\n                            </li>\\n\\t\\t\\t\\t\\t\\t                           \\n                            <li>\\n                                <div class=\"event-name\" data-order=\"1_techno-garcons_09990\">\\n                                    <p>\\n                                       <a href=\"https://app.metasail.it/ViewRecordedRace2018.aspx?idgara=20406&token=Y1XU\" target=\"_blank\">\\n                                            <strong>Techno Garcons R 9</strong>\\n                                             <span class=\"event-toolbar\">\\n                                                                                       \\n                                                                                    </span>\\n                                        </a>\\n                                    </p>\\n\\t\\t\\t\\t\\t\\t\\t\\t\\t                                </div>\\n\\n\\n                            </li>\\n\\t\\t\\t\\t\\t\\t                           \\n                            <li>\\n                                <div class=\"event-name\" data-order=\"1_tika_09988\">\\n                                    <p>\\n                                       <a href=\"https://app.metasail.it/ViewRecordedRace2018.aspx?idgara=20414&token=Y1XU\" target=\"_blank\">\\n                                            <strong>Tika R 11</strong>\\n                                             <span class=\"event-toolbar\">\\n                                                                                       \\n                                                                                    </span>\\n                                        </a>\\n                                    </p>\\n\\t\\t\\t\\t\\t\\t\\t\\t\\t                                </div>\\n\\n\\n                            </li>\\n\\t\\t\\t\\t\\t\\t                           \\n                            <li>\\n                                <div class=\"event-name\" data-order=\"1_tika_09999\">\\n                                    <p>\\n                                       <a href=\"https://app.metasail.it/ViewRecordedRace2018.aspx?idgara=20400&token=Y1XU\" target=\"_blank\">\\n                                            <strong>Tika R 10</strong>\\n                                             <span class=\"event-toolbar\">\\n                                                                                       \\n                                                                                    </span>\\n                                        </a>\\n                                    </p>\\n\\t\\t\\t\\t\\t\\t\\t\\t\\t                                </div>\\n\\n\\n                            </li>\\n\\t\\t\\t\\t\\t\\t                    </ul>\\n\\t\\t\\t\\t                    <h4>11/07/2023</h4>\\n                    <ul>\\n\\t\\t\\t\\t\\t\\t                           \\n                            <li>\\n                                <div class=\"event-name\" data-order=\"1_feva_09990\">\\n                                    <p>\\n                                       <a href=\"https://app.metasail.it/ViewRecordedRace2018.aspx?idgara=20362&token=Y1XU\" target=\"_blank\">\\n                                            <strong>Feva R 9</strong>\\n                                             <span class=\"event-toolbar\">\\n                                                                                       \\n                                                                                    </span>\\n                                        </a>\\n                                    </p>\\n\\t\\t\\t\\t\\t\\t\\t\\t\\t                                </div>\\n\\n\\n                            </li>\\n\\t\\t\\t\\t\\t\\t                           \\n                            <li>\\n                                <div class=\"event-name\" data-order=\"1_feva_09991\">\\n                                    <p>\\n                                       <a href=\"https://app.metasail.it/ViewRecordedRace2018.aspx?idgara=20354&token=Y1XU\" target=\"_blank\">\\n                                            <strong>Feva R 8</strong>\\n                                             <span class=\"event-toolbar\">\\n                                                                                       \\n                                                                                    </span>\\n                                        </a>\\n                                    </p>\\n\\t\\t\\t\\t\\t\\t\\t\\t\\t                                </div>\\n\\n\\n                            </li>\\n\\t\\t\\t\\t\\t\\t                           \\n                            <li>\\n                                <div class=\"event-name\" data-order=\"1_feva_09992\">\\n                                    <p>\\n                                       <a href=\"https://app.metasail.it/ViewRecordedRace2018.aspx?idgara=20351&token=Y1XU\" target=\"_blank\">\\n                                            <strong>Feva R 7</strong>\\n                                             <span class=\"event-toolbar\">\\n                                                                                       \\n                                                                                    </span>\\n                                        </a>\\n                                    </p>\\n\\t\\t\\t\\t\\t\\t\\t\\t\\t                                </div>\\n\\n\\n                            </li>\\n\\t\\t\\t\\t\\t\\t                           \\n                            <li>\\n                                <div class=\"event-name\" data-order=\"1_open-skiff-filles_09990\">\\n                                    <p>\\n                                       <a href=\"https://app.metasail.it/ViewRecordedRace2018.aspx?idgara=20359&token=Y1XU\" target=\"_blank\">\\n                                            <strong>Open Skiff Filles R 9</strong>\\n                                             <span class=\"event-toolbar\">\\n                                                                                       \\n                                                                                    </span>\\n                                        </a>\\n                                    </p>\\n\\t\\t\\t\\t\\t\\t\\t\\t\\t                                </div>\\n\\n\\n                            </li>\\n\\t\\t\\t\\t\\t\\t                           \\n                            <li>\\n                                <div class=\"event-name\" data-order=\"1_open-skiff-filles_09991\">\\n                                    <p>\\n                                       <a href=\"https://app.metasail.it/ViewRecordedRace2018.aspx?idgara=20344&token=Y1XU\" target=\"_blank\">\\n                                            <strong>Open Skiff Filles R 8</strong>\\n                                             <span class=\"event-toolbar\">\\n                                                                                       \\n                                                                                    </span>\\n                                        </a>\\n                                    </p>\\n\\t\\t\\t\\t\\t\\t\\t\\t\\t                                </div>\\n\\n\\n                            </li>\\n\\t\\t\\t\\t\\t\\t                           \\n                            <li>\\n                                <div class=\"event-name\" data-order=\"1_open-skiff-filles_09992\">\\n                                    <p>\\n                                       <a href=\"https://app.metasail.it/ViewRecordedRace2018.aspx?idgara=20339&token=Y1XU\" target=\"_blank\">\\n                                            <strong>Open Skiff Filles R 7</strong>\\n                                             <span class=\"event-toolbar\">\\n                                                                                       \\n                                                                                    </span>\\n                                        </a>\\n                                    </p>\\n\\t\\t\\t\\t\\t\\t\\t\\t\\t                                </div>\\n\\n\\n                            </li>\\n\\t\\t\\t\\t\\t\\t                           \\n                            <li>\\n                                <div class=\"event-name\" data-order=\"1_open-skiff-garcons_09990\">\\n                                    <p>\\n                                       <a href=\"https://app.metasail.it/ViewRecordedRace2018.aspx?idgara=20363&token=Y1XU\" target=\"_blank\">\\n                                            <strong>Open Skiff Garcons R 9</strong>\\n                                             <span class=\"event-toolbar\">\\n                                                                                       \\n                                                                                    </span>\\n                                        </a>\\n                                    </p>\\n\\t\\t\\t\\t\\t\\t\\t\\t\\t                                </div>\\n\\n\\n                            </li>\\n\\t\\t\\t\\t\\t\\t                           \\n                            <li>\\n                                <div class=\"event-name\" data-order=\"1_open-skiff-garcons_09991\">\\n                                    <p>\\n                                       <a href=\"https://app.metasail.it/ViewRecordedRace2018.aspx?idgara=20353&token=Y1XU\" target=\"_blank\">\\n                                            <strong>Open Skiff Garcons R 8</strong>\\n                                             <span class=\"event-toolbar\">\\n                                                                                       \\n                                                                                    </span>\\n                                        </a>\\n                                    </p>\\n\\t\\t\\t\\t\\t\\t\\t\\t\\t                                </div>\\n\\n\\n                            </li>\\n\\t\\t\\t\\t\\t\\t                           \\n                            <li>\\n                                <div class=\"event-name\" data-order=\"1_open-skiff-garcons_09992\">\\n                                    <p>\\n                                       <a href=\"https://app.metasail.it/ViewRecordedRace2018.aspx?idgara=20345&token=Y1XU\" target=\"_blank\">\\n                                            <strong>Open Skiff Garcons R 7</strong>\\n                                             <span class=\"event-toolbar\">\\n                                                                                       \\n                                                                                    </span>\\n                                        </a>\\n                                    </p>\\n\\t\\t\\t\\t\\t\\t\\t\\t\\t                                </div>\\n\\n\\n                            </li>\\n\\t\\t\\t\\t\\t\\t                           \\n                            <li>\\n                                <div class=\"event-name\" data-order=\"1_optimist-filles_09990\">\\n                                    <p>\\n                                       <a href=\"https://app.metasail.it/ViewRecordedRace2018.aspx?idgara=20374&token=Y1XU\" target=\"_blank\">\\n                                            <strong>Optimist Filles R 9</strong>\\n                                             <span class=\"event-toolbar\">\\n                                                                                       \\n                                                                                    </span>\\n                                        </a>\\n                                    </p>\\n\\t\\t\\t\\t\\t\\t\\t\\t\\t                                </div>\\n\\n\\n                            </li>\\n\\t\\t\\t\\t\\t\\t                           \\n                            <li>\\n                                <div class=\"event-name\" data-order=\"1_optimist-filles_09990\">\\n                                    <p>\\n                                       <a href=\"https://app.metasail.it/ViewRecordedRace2018.aspx?idgara=20365&token=Y1XU\" target=\"_blank\">\\n                                            <strong>Optimist Filles abandoned R 9</strong>\\n                                             <span class=\"event-toolbar\">\\n                                                                                       \\n                                                                                    </span>\\n                                        </a>\\n                                    </p>\\n\\t\\t\\t\\t\\t\\t\\t\\t\\t                                </div>\\n\\n\\n                            </li>\\n\\t\\t\\t\\t\\t\\t                           \\n                            <li>\\n                                <div class=\"event-name\" data-order=\"1_optimist-filles_09991\">\\n                                    <p>\\n                                       <a href=\"https://app.metasail.it/ViewRecordedRace2018.aspx?idgara=20355&token=Y1XU\" target=\"_blank\">\\n                                            <strong>Optimist Filles R 8</strong>\\n                                             <span class=\"event-toolbar\">\\n                                                                                       \\n                                                                                    </span>\\n                                        </a>\\n                                    </p>\\n\\t\\t\\t\\t\\t\\t\\t\\t\\t                                </div>\\n\\n\\n                            </li>\\n\\t\\t\\t\\t\\t\\t                           \\n                            <li>\\n                                <div class=\"event-name\" data-order=\"1_optimist-filles_09992\">\\n                                    <p>\\n                                       <a href=\"https://app.metasail.it/ViewRecordedRace2018.aspx?idgara=20346&token=Y1XU\" target=\"_blank\">\\n                                            <strong>Optimist Filles R 7</strong>\\n                                             <span class=\"event-toolbar\">\\n                                                                                       \\n                                                                                    </span>\\n                                        </a>\\n                                    </p>\\n\\t\\t\\t\\t\\t\\t\\t\\t\\t                                </div>\\n\\n\\n                            </li>\\n\\t\\t\\t\\t\\t\\t                           \\n                            <li>\\n                                <div class=\"event-name\" data-order=\"1_optimist-garcons_09990\">\\n                                    <p>\\n                                       <a href=\"https://app.metasail.it/ViewRecordedRace2018.aspx?idgara=20368&token=Y1XU\" target=\"_blank\">\\n                                            <strong>Optimist Garcons general recall R 9</strong>\\n                                             <span class=\"event-toolbar\">\\n                                                                                       \\n                                                                                    </span>\\n                                        </a>\\n                                    </p>\\n\\t\\t\\t\\t\\t\\t\\t\\t\\t                                </div>\\n\\n\\n                            </li>\\n\\t\\t\\t\\t\\t\\t                           \\n                            <li>\\n                                <div class=\"event-name\" data-order=\"1_optimist-garcons_09990\">\\n                                    <p>\\n                                       <a href=\"https://app.metasail.it/ViewRecordedRace2018.aspx?idgara=20378&token=Y1XU\" target=\"_blank\">\\n                                            <strong>Optimist Garcons R 9</strong>\\n                                             <span class=\"event-toolbar\">\\n                                                                                       \\n                                                                                    </span>\\n                                        </a>\\n                                    </p>\\n\\t\\t\\t\\t\\t\\t\\t\\t\\t                                </div>\\n\\n\\n                            </li>\\n\\t\\t\\t\\t\\t\\t                           \\n                            <li>\\n                                <div class=\"event-name\" data-order=\"1_optimist-garcons_09991\">\\n                                    <p>\\n                                       <a href=\"https://app.metasail.it/ViewRecordedRace2018.aspx?idgara=20356&token=Y1XU\" target=\"_blank\">\\n                                            <strong>Optimist Garcons R 8</strong>\\n                                             <span class=\"event-toolbar\">\\n                                                                                       \\n                                                                                    </span>\\n                                        </a>\\n                                    </p>\\n\\t\\t\\t\\t\\t\\t\\t\\t\\t                                </div>\\n\\n\\n                            </li>\\n\\t\\t\\t\\t\\t\\t                           \\n                            <li>\\n                                <div class=\"event-name\" data-order=\"1_optimist-garcons_09992\">\\n                                    <p>\\n                                       <a href=\"https://app.metasail.it/ViewRecordedRace2018.aspx?idgara=20347&token=Y1XU\" target=\"_blank\">\\n                                            <strong>Optimist Garcons R 7</strong>\\n                                             <span class=\"event-toolbar\">\\n                                                                                       \\n                                                                                    </span>\\n                                        </a>\\n                                    </p>\\n\\t\\t\\t\\t\\t\\t\\t\\t\\t                                </div>\\n\\n\\n                            </li>\\n\\t\\t\\t\\t\\t\\t                           \\n                            <li>\\n                                <div class=\"event-name\" data-order=\"1_techno-filles_09991\">\\n                                    <p>\\n                                       <a href=\"https://app.metasail.it/ViewRecordedRace2018.aspx?idgara=20371&token=Y1XU\" target=\"_blank\">\\n                                            <strong>Techno Filles R 8</strong>\\n                                             <span class=\"event-toolbar\">\\n                                                                                       \\n                                                                                    </span>\\n                                        </a>\\n                                    </p>\\n\\t\\t\\t\\t\\t\\t\\t\\t\\t                                </div>\\n\\n\\n                            </li>\\n\\t\\t\\t\\t\\t\\t                           \\n                            <li>\\n                                <div class=\"event-name\" data-order=\"1_techno-filles_09992\">\\n                                    <p>\\n                                       <a href=\"https://app.metasail.it/ViewRecordedRace2018.aspx?idgara=20348&token=Y1XU\" target=\"_blank\">\\n                                            <strong>Techno Filles R 7</strong>\\n                                             <span class=\"event-toolbar\">\\n                                                                                       \\n                                                                                    </span>\\n                                        </a>\\n                                    </p>\\n\\t\\t\\t\\t\\t\\t\\t\\t\\t                                </div>\\n\\n\\n                            </li>\\n\\t\\t\\t\\t\\t\\t                           \\n                            <li>\\n                                <div class=\"event-name\" data-order=\"1_techno-filles_09993\">\\n                                    <p>\\n                                       <a href=\"https://app.metasail.it/ViewRecordedRace2018.aspx?idgara=20341&token=Y1XU\" target=\"_blank\">\\n                                            <strong>Techno Filles R 6</strong>\\n                                             <span class=\"event-toolbar\">\\n                                                                                       \\n                                                                                    </span>\\n                                        </a>\\n                                    </p>\\n\\t\\t\\t\\t\\t\\t\\t\\t\\t                                </div>\\n\\n\\n                            </li>\\n\\t\\t\\t\\t\\t\\t                           \\n                            <li>\\n                                <div class=\"event-name\" data-order=\"1_techno-garcons_09991\">\\n                                    <p>\\n                                       <a href=\"https://app.metasail.it/ViewRecordedRace2018.aspx?idgara=20360&token=Y1XU\" target=\"_blank\">\\n                                            <strong>Techno Garcons R 8</strong>\\n                                             <span class=\"event-toolbar\">\\n                                                                                       \\n                                                                                    </span>\\n                                        </a>\\n                                    </p>\\n\\t\\t\\t\\t\\t\\t\\t\\t\\t                                </div>\\n\\n\\n                            </li>\\n\\t\\t\\t\\t\\t\\t                           \\n                            <li>\\n                                <div class=\"event-name\" data-order=\"1_techno-garcons_09992\">\\n                                    <p>\\n                                       <a href=\"https://app.metasail.it/ViewRecordedRace2018.aspx?idgara=20357&token=Y1XU\" target=\"_blank\">\\n                                            <strong>Techno Garcons R 7</strong>\\n                                             <span class=\"event-toolbar\">\\n                                                                                       \\n                                                                                    </span>\\n                                        </a>\\n                                    </p>\\n\\t\\t\\t\\t\\t\\t\\t\\t\\t                                </div>\\n\\n\\n                            </li>\\n\\t\\t\\t\\t\\t\\t                           \\n                            <li>\\n                                <div class=\"event-name\" data-order=\"1_techno-garcons_09993\">\\n                                    <p>\\n                                       <a href=\"https://app.metasail.it/ViewRecordedRace2018.aspx?idgara=20337&token=Y1XU\" target=\"_blank\">\\n                                            <strong>Techno Garcons R 6</strong>\\n                                             <span class=\"event-toolbar\">\\n                                                                                       \\n                                                                                    </span>\\n                                        </a>\\n                                    </p>\\n\\t\\t\\t\\t\\t\\t\\t\\t\\t                                </div>\\n\\n\\n                            </li>\\n\\t\\t\\t\\t\\t\\t                           \\n                            <li>\\n                                <div class=\"event-name\" data-order=\"1_tika_09990\">\\n                                    <p>\\n                                       <a href=\"https://app.metasail.it/ViewRecordedRace2018.aspx?idgara=20364&token=Y1XU\" target=\"_blank\">\\n                                            <strong>Tika R 9</strong>\\n                                             <span class=\"event-toolbar\">\\n                                                                                       \\n                                                                                    </span>\\n                                        </a>\\n                                    </p>\\n\\t\\t\\t\\t\\t\\t\\t\\t\\t                                </div>\\n\\n\\n                            </li>\\n\\t\\t\\t\\t\\t\\t                           \\n                            <li>\\n                                <div class=\"event-name\" data-order=\"1_tika_09991\">\\n                                    <p>\\n                                       <a href=\"https://app.metasail.it/ViewRecordedRace2018.aspx?idgara=20358&token=Y1XU\" target=\"_blank\">\\n                                            <strong>Tika R 8</strong>\\n                                             <span class=\"event-toolbar\">\\n                                                                                       \\n                                                                                    </span>\\n                                        </a>\\n                                    </p>\\n\\t\\t\\t\\t\\t\\t\\t\\t\\t                                </div>\\n\\n\\n                            </li>\\n\\t\\t\\t\\t\\t\\t                           \\n                            <li>\\n                                <div class=\"event-name\" data-order=\"1_tika_09992\">\\n                                    <p>\\n                                       <a href=\"https://app.metasail.it/ViewRecordedRace2018.aspx?idgara=20352&token=Y1XU\" target=\"_blank\">\\n                                            <strong>Tika R 7</strong>\\n                                             <span class=\"event-toolbar\">\\n                                                                                       \\n                                                                                    </span>\\n                                        </a>\\n                                    </p>\\n\\t\\t\\t\\t\\t\\t\\t\\t\\t                                </div>\\n\\n\\n                            </li>\\n\\t\\t\\t\\t\\t\\t                    </ul>\\n\\t\\t\\t\\t            </div>\\n\\t\\t    </div>\\n</div>\\n<div class=\"row\">\\n    <div class=\"single-block-list\"></div>\\n</div>\\n<!-- end template-parts/event -->\\n        <!-- /single content 428 -->\\n    </div>\\n<!--</main>-->\\n\"\"\""
   ]
  },
  {
   "cell_type": "code",
   "execution_count": 6,
   "id": "6567d646-c300-4714-a336-50b4fe0a53a5",
   "metadata": {},
   "outputs": [
    {
     "name": "stdout",
     "output_type": "stream",
     "text": [
      "4.595\n"
     ]
    }
   ],
   "source": [
    "print(df.loc[df['id'] == 'A0297'].s_avgspeed.mean())"
   ]
  },
  {
   "cell_type": "code",
   "execution_count": 15,
   "id": "e0194c34",
   "metadata": {},
   "outputs": [
    {
     "name": "stdout",
     "output_type": "stream",
     "text": [
      "       min      max   color\n",
      "0 -1000.00   -10.01     red\n",
      "1   -10.00    -0.01  yellow\n",
      "2     0.00     5.00    blue\n",
      "3     5.01  1000.00   green\n"
     ]
    },
    {
     "data": {
      "text/html": [
       "<div>\n",
       "<style scoped>\n",
       "    .dataframe tbody tr th:only-of-type {\n",
       "        vertical-align: middle;\n",
       "    }\n",
       "\n",
       "    .dataframe tbody tr th {\n",
       "        vertical-align: top;\n",
       "    }\n",
       "\n",
       "    .dataframe thead th {\n",
       "        text-align: right;\n",
       "    }\n",
       "</style>\n",
       "<table border=\"1\" class=\"dataframe\">\n",
       "  <thead>\n",
       "    <tr style=\"text-align: right;\">\n",
       "      <th></th>\n",
       "      <th>min</th>\n",
       "      <th>max</th>\n",
       "      <th>color</th>\n",
       "    </tr>\n",
       "  </thead>\n",
       "  <tbody>\n",
       "    <tr>\n",
       "      <th>1</th>\n",
       "      <td>-10.0</td>\n",
       "      <td>-0.01</td>\n",
       "      <td>yellow</td>\n",
       "    </tr>\n",
       "  </tbody>\n",
       "</table>\n",
       "</div>"
      ],
      "text/plain": [
       "    min   max   color\n",
       "1 -10.0 -0.01  yellow"
      ]
     },
     "execution_count": 15,
     "metadata": {},
     "output_type": "execute_result"
    }
   ],
   "source": [
    "colors = {\n",
    "  'min':   [-1000,    -10, 0, 5.01],\n",
    "  'max':   [-10.01, -0.01, 5, 1000],\n",
    "  'color': ['red', 'yellow', 'blue', 'green']\n",
    "}\n",
    "\n",
    "df = pd.DataFrame({\n",
    "  'min':   [-1000,    -10, 0, 5.01],\n",
    "  'max':   [-10.01, -0.01, 5, 1000],\n",
    "  'color': ['red', 'yellow', 'blue', 'green']\n",
    "})\n",
    "print(df)\n",
    "\n",
    "val = -1\n",
    "mask = df[(val >= df['min']) & (val <= df['max'])]\n",
    "mask"
   ]
  },
  {
   "cell_type": "code",
   "execution_count": null,
   "id": "6483daf9",
   "metadata": {},
   "outputs": [],
   "source": []
  }
 ],
 "metadata": {
  "kernelspec": {
   "display_name": "Python 3 (ipykernel)",
   "language": "python",
   "name": "python3"
  },
  "language_info": {
   "codemirror_mode": {
    "name": "ipython",
    "version": 3
   },
   "file_extension": ".py",
   "mimetype": "text/x-python",
   "name": "python",
   "nbconvert_exporter": "python",
   "pygments_lexer": "ipython3",
   "version": "3.10.9"
  }
 },
 "nbformat": 4,
 "nbformat_minor": 5
}
