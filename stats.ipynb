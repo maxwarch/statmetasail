{
 "cells": [
  {
   "cell_type": "code",
   "execution_count": 2,
   "id": "dda7d3e4-113d-4a3f-9cc3-7dcfa3ef38c4",
   "metadata": {
    "jupyter": {
     "source_hidden": true
    },
    "tags": []
   },
   "outputs": [],
   "source": [
    "import pandas as pd\n",
    "import xml.etree.ElementTree as ET\n",
    "from io import StringIO"
   ]
  },
  {
   "cell_type": "code",
   "execution_count": 10,
   "id": "e5549563-7b67-4059-9535-95d7c08391dc",
   "metadata": {
    "jupyter": {
     "source_hidden": true
    },
    "tags": []
   },
   "outputs": [
    {
     "ename": "KeyError",
     "evalue": "\"None of [Int64Index([0], dtype='int64', name='id')] are in the [index]\"",
     "output_type": "error",
     "traceback": [
      "\u001b[0;31m---------------------------------------------------------------------------\u001b[0m",
      "\u001b[0;31mKeyError\u001b[0m                                  Traceback (most recent call last)",
      "Cell \u001b[0;32mIn[10], line 64\u001b[0m\n\u001b[1;32m     62\u001b[0m df \u001b[39m=\u001b[39m pd\u001b[39m.\u001b[39mDataFrame(rows, columns\u001b[39m=\u001b[39mdf_cols)\n\u001b[1;32m     63\u001b[0m df\u001b[39m.\u001b[39mset_index(\u001b[39m'\u001b[39m\u001b[39mid\u001b[39m\u001b[39m'\u001b[39m, inplace\u001b[39m=\u001b[39m\u001b[39mTrue\u001b[39;00m)\n\u001b[0;32m---> 64\u001b[0m \u001b[39mprint\u001b[39m(df\u001b[39m.\u001b[39;49mloc[[\u001b[39m0\u001b[39;49m]])\n\u001b[1;32m     65\u001b[0m df\u001b[39m.\u001b[39mshape\n",
      "File \u001b[0;32m~/anaconda3/lib/python3.10/site-packages/pandas/core/indexing.py:1073\u001b[0m, in \u001b[0;36m_LocationIndexer.__getitem__\u001b[0;34m(self, key)\u001b[0m\n\u001b[1;32m   1070\u001b[0m axis \u001b[39m=\u001b[39m \u001b[39mself\u001b[39m\u001b[39m.\u001b[39maxis \u001b[39mor\u001b[39;00m \u001b[39m0\u001b[39m\n\u001b[1;32m   1072\u001b[0m maybe_callable \u001b[39m=\u001b[39m com\u001b[39m.\u001b[39mapply_if_callable(key, \u001b[39mself\u001b[39m\u001b[39m.\u001b[39mobj)\n\u001b[0;32m-> 1073\u001b[0m \u001b[39mreturn\u001b[39;00m \u001b[39mself\u001b[39;49m\u001b[39m.\u001b[39;49m_getitem_axis(maybe_callable, axis\u001b[39m=\u001b[39;49maxis)\n",
      "File \u001b[0;32m~/anaconda3/lib/python3.10/site-packages/pandas/core/indexing.py:1301\u001b[0m, in \u001b[0;36m_LocIndexer._getitem_axis\u001b[0;34m(self, key, axis)\u001b[0m\n\u001b[1;32m   1298\u001b[0m     \u001b[39mif\u001b[39;00m \u001b[39mhasattr\u001b[39m(key, \u001b[39m\"\u001b[39m\u001b[39mndim\u001b[39m\u001b[39m\"\u001b[39m) \u001b[39mand\u001b[39;00m key\u001b[39m.\u001b[39mndim \u001b[39m>\u001b[39m \u001b[39m1\u001b[39m:\n\u001b[1;32m   1299\u001b[0m         \u001b[39mraise\u001b[39;00m \u001b[39mValueError\u001b[39;00m(\u001b[39m\"\u001b[39m\u001b[39mCannot index with multidimensional key\u001b[39m\u001b[39m\"\u001b[39m)\n\u001b[0;32m-> 1301\u001b[0m     \u001b[39mreturn\u001b[39;00m \u001b[39mself\u001b[39;49m\u001b[39m.\u001b[39;49m_getitem_iterable(key, axis\u001b[39m=\u001b[39;49maxis)\n\u001b[1;32m   1303\u001b[0m \u001b[39m# nested tuple slicing\u001b[39;00m\n\u001b[1;32m   1304\u001b[0m \u001b[39mif\u001b[39;00m is_nested_tuple(key, labels):\n",
      "File \u001b[0;32m~/anaconda3/lib/python3.10/site-packages/pandas/core/indexing.py:1239\u001b[0m, in \u001b[0;36m_LocIndexer._getitem_iterable\u001b[0;34m(self, key, axis)\u001b[0m\n\u001b[1;32m   1236\u001b[0m \u001b[39mself\u001b[39m\u001b[39m.\u001b[39m_validate_key(key, axis)\n\u001b[1;32m   1238\u001b[0m \u001b[39m# A collection of keys\u001b[39;00m\n\u001b[0;32m-> 1239\u001b[0m keyarr, indexer \u001b[39m=\u001b[39m \u001b[39mself\u001b[39;49m\u001b[39m.\u001b[39;49m_get_listlike_indexer(key, axis)\n\u001b[1;32m   1240\u001b[0m \u001b[39mreturn\u001b[39;00m \u001b[39mself\u001b[39m\u001b[39m.\u001b[39mobj\u001b[39m.\u001b[39m_reindex_with_indexers(\n\u001b[1;32m   1241\u001b[0m     {axis: [keyarr, indexer]}, copy\u001b[39m=\u001b[39m\u001b[39mTrue\u001b[39;00m, allow_dups\u001b[39m=\u001b[39m\u001b[39mTrue\u001b[39;00m\n\u001b[1;32m   1242\u001b[0m )\n",
      "File \u001b[0;32m~/anaconda3/lib/python3.10/site-packages/pandas/core/indexing.py:1432\u001b[0m, in \u001b[0;36m_LocIndexer._get_listlike_indexer\u001b[0;34m(self, key, axis)\u001b[0m\n\u001b[1;32m   1429\u001b[0m ax \u001b[39m=\u001b[39m \u001b[39mself\u001b[39m\u001b[39m.\u001b[39mobj\u001b[39m.\u001b[39m_get_axis(axis)\n\u001b[1;32m   1430\u001b[0m axis_name \u001b[39m=\u001b[39m \u001b[39mself\u001b[39m\u001b[39m.\u001b[39mobj\u001b[39m.\u001b[39m_get_axis_name(axis)\n\u001b[0;32m-> 1432\u001b[0m keyarr, indexer \u001b[39m=\u001b[39m ax\u001b[39m.\u001b[39;49m_get_indexer_strict(key, axis_name)\n\u001b[1;32m   1434\u001b[0m \u001b[39mreturn\u001b[39;00m keyarr, indexer\n",
      "File \u001b[0;32m~/anaconda3/lib/python3.10/site-packages/pandas/core/indexes/base.py:6070\u001b[0m, in \u001b[0;36mIndex._get_indexer_strict\u001b[0;34m(self, key, axis_name)\u001b[0m\n\u001b[1;32m   6067\u001b[0m \u001b[39melse\u001b[39;00m:\n\u001b[1;32m   6068\u001b[0m     keyarr, indexer, new_indexer \u001b[39m=\u001b[39m \u001b[39mself\u001b[39m\u001b[39m.\u001b[39m_reindex_non_unique(keyarr)\n\u001b[0;32m-> 6070\u001b[0m \u001b[39mself\u001b[39;49m\u001b[39m.\u001b[39;49m_raise_if_missing(keyarr, indexer, axis_name)\n\u001b[1;32m   6072\u001b[0m keyarr \u001b[39m=\u001b[39m \u001b[39mself\u001b[39m\u001b[39m.\u001b[39mtake(indexer)\n\u001b[1;32m   6073\u001b[0m \u001b[39mif\u001b[39;00m \u001b[39misinstance\u001b[39m(key, Index):\n\u001b[1;32m   6074\u001b[0m     \u001b[39m# GH 42790 - Preserve name from an Index\u001b[39;00m\n",
      "File \u001b[0;32m~/anaconda3/lib/python3.10/site-packages/pandas/core/indexes/base.py:6130\u001b[0m, in \u001b[0;36mIndex._raise_if_missing\u001b[0;34m(self, key, indexer, axis_name)\u001b[0m\n\u001b[1;32m   6128\u001b[0m     \u001b[39mif\u001b[39;00m use_interval_msg:\n\u001b[1;32m   6129\u001b[0m         key \u001b[39m=\u001b[39m \u001b[39mlist\u001b[39m(key)\n\u001b[0;32m-> 6130\u001b[0m     \u001b[39mraise\u001b[39;00m \u001b[39mKeyError\u001b[39;00m(\u001b[39mf\u001b[39m\u001b[39m\"\u001b[39m\u001b[39mNone of [\u001b[39m\u001b[39m{\u001b[39;00mkey\u001b[39m}\u001b[39;00m\u001b[39m] are in the [\u001b[39m\u001b[39m{\u001b[39;00maxis_name\u001b[39m}\u001b[39;00m\u001b[39m]\u001b[39m\u001b[39m\"\u001b[39m)\n\u001b[1;32m   6132\u001b[0m not_found \u001b[39m=\u001b[39m \u001b[39mlist\u001b[39m(ensure_index(key)[missing_mask\u001b[39m.\u001b[39mnonzero()[\u001b[39m0\u001b[39m]]\u001b[39m.\u001b[39munique())\n\u001b[1;32m   6133\u001b[0m \u001b[39mraise\u001b[39;00m \u001b[39mKeyError\u001b[39;00m(\u001b[39mf\u001b[39m\u001b[39m\"\u001b[39m\u001b[39m{\u001b[39;00mnot_found\u001b[39m}\u001b[39;00m\u001b[39m not in index\u001b[39m\u001b[39m\"\u001b[39m)\n",
      "\u001b[0;31mKeyError\u001b[0m: \"None of [Int64Index([0], dtype='int64', name='id')] are in the [index]\""
     ]
    }
   ],
   "source": [
    "#id = Seriale\n",
    "#nom = Nome\n",
    "#long_parcours = TotLungLato (en m)\n",
    "#dist_parcouru = TotDistPerc (en m)\n",
    "#temps_total = TotTempPerc (en s)\n",
    "#s*_topspeed = cInfoRaceSegment/TopSpeed (en Knt)\n",
    "#s*_topvmg = cInfoRaceSegment/TopVMG (en Knt)\n",
    "#s*_avgspeed = cInfoRaceSegment/AvgSpeed (en Knt)\n",
    "#s*_tempsgauche = cInfoRaceSegment/CrtRaceSegSX (en %)\n",
    "#s*_tempsdroite = cInfoRaceSegment/CrtRaceSegDX (en %)\n",
    "#s*_tempssursegment = cInfoRaceSegment/TimeSecPercorsi (en s)\n",
    "#s*_distancesursegment = cInfoRaceSegment/SegDistRealePercorsa (en m)\n",
    "#s*_longueursegment = cInfoRaceSegment/LungLato (en m)\n",
    "#s*_rankentersegment = cInfoRaceSegment/SegEnteredRank\n",
    "\n",
    "# M7, M8, M9, M10, M11, M12,  Départ – 1 – 4 – 1 – 2 – 3 - Arrivée\n",
    "# M13  Départ – 1 – 2 – 3 – 2 – 3 - Arrivée\n",
    "#https://app.metasail.it/(S(usryiluj43x0xh10ztf4whfp))/MetaSailWS.asmx/getStatistiche?idgara=xxx\n",
    "\n",
    "manche = 'M9'\n",
    "\n",
    "# remove namespace\n",
    "src = open('./' + manche + '.xml', 'r').read()\n",
    "tree = ET.iterparse(StringIO(src))\n",
    "for _, el in tree:\n",
    "    prefix, has_namespace, postfix = el.tag.partition('}')\n",
    "    if has_namespace:\n",
    "        el.tag = postfix\n",
    "\n",
    "root = tree.root\n",
    "\n",
    "df_cols = ['id', 'nom', 'long_parcours', 'dist_parcouru', 'temps_total']\n",
    "def add_row(colname, value, row):\n",
    "    row[colname] = value\n",
    "    if colname not in df_cols:\n",
    "        df_cols.append(colname)\n",
    "\n",
    "rows = []\n",
    "row_index = 0\n",
    "for node in root:\n",
    "    row = {\n",
    "        'id': node.find('Seriale').text if node is not None else None,\n",
    "        'nom': node.find('Nome').text if node is not None else None,\n",
    "        'long_parcours': int(node.find('TotLungLato').text) if node is not None else None,\n",
    "        'dist_parcouru': int(node.find('TotDistPerc').text) if node is not None else None,\n",
    "        'temps_total': int(node.find('TotTempPerc').text) if node is not None else None,\n",
    "    }\n",
    "    curr_segment = 1\n",
    "    for segment in node.find('lstSegments').iter('cInfoRaceSegment'):\n",
    "        add_row('s' + str(curr_segment) + '_topspeed', float(segment.find('TopSpeed').text), row)       \n",
    "        add_row('s' + str(curr_segment) + '_topvmg', float(segment.find('TopVMG').text), row)\n",
    "        add_row('s' + str(curr_segment) + '_avgspeed', float(segment.find('AvgSpeed').text), row)\n",
    "        add_row('s' + str(curr_segment) + '_tempsgauche', int(segment.find('CrtRaceSegSX').text), row)\n",
    "        add_row('s' + str(curr_segment) + '_tempsdroite', int(segment.find('CrtRaceSegDX').text), row)\n",
    "        add_row('s' + str(curr_segment) + '_tempssursegment', int(segment.find('TimeSecPercorsi').text), row)\n",
    "        add_row('s' + str(curr_segment) + '_distancesursegment', int(segment.find('SegDistRealePercorsa').text), row)\n",
    "        add_row('s' + str(curr_segment) + '_longueursegment', int(segment.find('LungLato').text), row)\n",
    "        add_row('s' + str(curr_segment) + '_rankentersegment', int(segment.find('SegEnteredRank').text), row)\n",
    "        curr_segment += 1\n",
    "    rows.append(row)\n",
    "    \n",
    "df = pd.DataFrame(rows, columns=df_cols)\n",
    "df.set_index('id', inplace=True)\n",
    "print(df.loc[[0]])\n",
    "df.shape"
   ]
  },
  {
   "cell_type": "code",
   "execution_count": 22,
   "id": "974e01c2-99f2-4a6f-823d-551cbd1f96fe",
   "metadata": {
    "jupyter": {
     "source_hidden": true
    },
    "tags": []
   },
   "outputs": [
    {
     "data": {
      "text/plain": [
       "Index(['A0183', 'A0535', 'A0708', 'A0354', 'A0309'], dtype='object', name='id')"
      ]
     },
     "execution_count": 22,
     "metadata": {},
     "output_type": "execute_result"
    }
   ],
   "source": [
    "#Noel A0708\n",
    "#Briez A0183\n",
    "#Ganivez A0535\n",
    "#Swinyard A0354\n",
    "#vonck A0309\n",
    "\n",
    "selection = df[df.index.isin(['A0535', 'A0708', 'A0183', 'A0354', 'A0309'])]\n",
    "\n",
    "stat_selection = '_avgspeed'#'_distancesursegment'\n",
    "stat_compare = '_avgspeed'#'_longueursegment'\n",
    "selection.index\n",
    "#selection.head()"
   ]
  },
  {
   "cell_type": "code",
   "execution_count": 23,
   "id": "a5882639-0c20-440d-ab0f-30c597cf68c2",
   "metadata": {
    "jupyter": {
     "source_hidden": true
    },
    "tags": []
   },
   "outputs": [
    {
     "data": {
      "application/vnd.plotly.v1+json": {
       "config": {
        "plotlyServerURL": "https://plot.ly"
       },
       "data": [
        {
         "name": "v moy : 3.44knt",
         "text": [
          13,
          7,
          16,
          33,
          8
         ],
         "type": "bar",
         "x": [
          "Briez T.",
          "Ganivet C.",
          "Noel T.",
          "Swinyard E.",
          "Vonck M."
         ],
         "xaxis": "x",
         "y": [
          3.28,
          3.79,
          3.38,
          3.05,
          3.69
         ],
         "yaxis": "y"
        },
        {
         "name": "v moy : 4.58knt",
         "text": [
          9,
          7,
          10,
          46,
          8
         ],
         "type": "bar",
         "x": [
          "Briez T.",
          "Ganivet C.",
          "Noel T.",
          "Swinyard E.",
          "Vonck M."
         ],
         "xaxis": "x2",
         "y": [
          4.68,
          4.72,
          4.66,
          4.51,
          4.48
         ],
         "yaxis": "y2"
        },
        {
         "name": "v moy : 3.47knt",
         "text": [
          20,
          8,
          10,
          47,
          9
         ],
         "type": "bar",
         "x": [
          "Briez T.",
          "Ganivet C.",
          "Noel T.",
          "Swinyard E.",
          "Vonck M."
         ],
         "xaxis": "x3",
         "y": [
          3.29,
          3.77,
          3.42,
          3.25,
          3.47
         ],
         "yaxis": "y3"
        },
        {
         "name": "v moy : 5.64knt",
         "text": [
          18,
          5,
          9,
          47,
          8
         ],
         "type": "bar",
         "x": [
          "Briez T.",
          "Ganivet C.",
          "Noel T.",
          "Swinyard E.",
          "Vonck M."
         ],
         "xaxis": "x4",
         "y": [
          6.01,
          6.5,
          5.84,
          5.61,
          5.77
         ],
         "yaxis": "y4"
        },
        {
         "name": "v moy : 4.81knt",
         "text": [
          16,
          3,
          6,
          46,
          8
         ],
         "type": "bar",
         "x": [
          "Briez T.",
          "Ganivet C.",
          "Noel T.",
          "Swinyard E.",
          "Vonck M."
         ],
         "xaxis": "x5",
         "y": [
          4.95,
          5.25,
          5.02,
          4.84,
          4.82
         ],
         "yaxis": "y5"
        },
        {
         "name": "v moy : 5.49knt",
         "text": [
          16,
          3,
          6,
          46,
          8
         ],
         "type": "bar",
         "x": [
          "Briez T.",
          "Ganivet C.",
          "Noel T.",
          "Swinyard E.",
          "Vonck M."
         ],
         "xaxis": "x6",
         "y": [
          5.7,
          6.53,
          6.01,
          4.94,
          5.46
         ],
         "yaxis": "y6"
        }
       ],
       "layout": {
        "annotations": [
         {
          "font": {
           "size": 16
          },
          "showarrow": false,
          "text": "Départ -> 1 (près)",
          "x": 0.225,
          "xanchor": "center",
          "xref": "paper",
          "y": 1,
          "yanchor": "bottom",
          "yref": "paper"
         },
         {
          "font": {
           "size": 16
          },
          "showarrow": false,
          "text": "Leg 2",
          "x": 0.775,
          "xanchor": "center",
          "xref": "paper",
          "y": 1,
          "yanchor": "bottom",
          "yref": "paper"
         },
         {
          "font": {
           "size": 16
          },
          "showarrow": false,
          "text": "Leg 3",
          "x": 0.225,
          "xanchor": "center",
          "xref": "paper",
          "y": 0.6111111111111112,
          "yanchor": "bottom",
          "yref": "paper"
         },
         {
          "font": {
           "size": 16
          },
          "showarrow": false,
          "text": "Leg 4",
          "x": 0.775,
          "xanchor": "center",
          "xref": "paper",
          "y": 0.6111111111111112,
          "yanchor": "bottom",
          "yref": "paper"
         },
         {
          "font": {
           "size": 16
          },
          "showarrow": false,
          "text": "Leg 5",
          "x": 0.225,
          "xanchor": "center",
          "xref": "paper",
          "y": 0.22222222222222224,
          "yanchor": "bottom",
          "yref": "paper"
         },
         {
          "font": {
           "size": 16
          },
          "showarrow": false,
          "text": "3 -> arrivée (travers)",
          "x": 0.775,
          "xanchor": "center",
          "xref": "paper",
          "y": 0.22222222222222224,
          "yanchor": "bottom",
          "yref": "paper"
         }
        ],
        "height": 900,
        "shapes": [
         {
          "line": {
           "color": "red"
          },
          "type": "line",
          "x0": 0,
          "x1": 1,
          "xref": "x domain",
          "y0": 3.4410909090909096,
          "y1": 3.4410909090909096,
          "yref": "y"
         },
         {
          "line": {
           "color": "red"
          },
          "type": "line",
          "x0": 0,
          "x1": 1,
          "xref": "x2 domain",
          "y0": 4.577636363636364,
          "y1": 4.577636363636364,
          "yref": "y2"
         },
         {
          "line": {
           "color": "red"
          },
          "type": "line",
          "x0": 0,
          "x1": 1,
          "xref": "x3 domain",
          "y0": 3.465636363636364,
          "y1": 3.465636363636364,
          "yref": "y3"
         },
         {
          "line": {
           "color": "red"
          },
          "type": "line",
          "x0": 0,
          "x1": 1,
          "xref": "x4 domain",
          "y0": 5.637636363636363,
          "y1": 5.637636363636363,
          "yref": "y4"
         },
         {
          "line": {
           "color": "red"
          },
          "type": "line",
          "x0": 0,
          "x1": 1,
          "xref": "x5 domain",
          "y0": 4.807454545454547,
          "y1": 4.807454545454547,
          "yref": "y5"
         },
         {
          "line": {
           "color": "red"
          },
          "type": "line",
          "x0": 0,
          "x1": 1,
          "xref": "x6 domain",
          "y0": 5.486181818181818,
          "y1": 5.486181818181818,
          "yref": "y6"
         }
        ],
        "template": {
         "data": {
          "bar": [
           {
            "error_x": {
             "color": "#2a3f5f"
            },
            "error_y": {
             "color": "#2a3f5f"
            },
            "marker": {
             "line": {
              "color": "#E5ECF6",
              "width": 0.5
             },
             "pattern": {
              "fillmode": "overlay",
              "size": 10,
              "solidity": 0.2
             }
            },
            "type": "bar"
           }
          ],
          "barpolar": [
           {
            "marker": {
             "line": {
              "color": "#E5ECF6",
              "width": 0.5
             },
             "pattern": {
              "fillmode": "overlay",
              "size": 10,
              "solidity": 0.2
             }
            },
            "type": "barpolar"
           }
          ],
          "carpet": [
           {
            "aaxis": {
             "endlinecolor": "#2a3f5f",
             "gridcolor": "white",
             "linecolor": "white",
             "minorgridcolor": "white",
             "startlinecolor": "#2a3f5f"
            },
            "baxis": {
             "endlinecolor": "#2a3f5f",
             "gridcolor": "white",
             "linecolor": "white",
             "minorgridcolor": "white",
             "startlinecolor": "#2a3f5f"
            },
            "type": "carpet"
           }
          ],
          "choropleth": [
           {
            "colorbar": {
             "outlinewidth": 0,
             "ticks": ""
            },
            "type": "choropleth"
           }
          ],
          "contour": [
           {
            "colorbar": {
             "outlinewidth": 0,
             "ticks": ""
            },
            "colorscale": [
             [
              0,
              "#0d0887"
             ],
             [
              0.1111111111111111,
              "#46039f"
             ],
             [
              0.2222222222222222,
              "#7201a8"
             ],
             [
              0.3333333333333333,
              "#9c179e"
             ],
             [
              0.4444444444444444,
              "#bd3786"
             ],
             [
              0.5555555555555556,
              "#d8576b"
             ],
             [
              0.6666666666666666,
              "#ed7953"
             ],
             [
              0.7777777777777778,
              "#fb9f3a"
             ],
             [
              0.8888888888888888,
              "#fdca26"
             ],
             [
              1,
              "#f0f921"
             ]
            ],
            "type": "contour"
           }
          ],
          "contourcarpet": [
           {
            "colorbar": {
             "outlinewidth": 0,
             "ticks": ""
            },
            "type": "contourcarpet"
           }
          ],
          "heatmap": [
           {
            "colorbar": {
             "outlinewidth": 0,
             "ticks": ""
            },
            "colorscale": [
             [
              0,
              "#0d0887"
             ],
             [
              0.1111111111111111,
              "#46039f"
             ],
             [
              0.2222222222222222,
              "#7201a8"
             ],
             [
              0.3333333333333333,
              "#9c179e"
             ],
             [
              0.4444444444444444,
              "#bd3786"
             ],
             [
              0.5555555555555556,
              "#d8576b"
             ],
             [
              0.6666666666666666,
              "#ed7953"
             ],
             [
              0.7777777777777778,
              "#fb9f3a"
             ],
             [
              0.8888888888888888,
              "#fdca26"
             ],
             [
              1,
              "#f0f921"
             ]
            ],
            "type": "heatmap"
           }
          ],
          "heatmapgl": [
           {
            "colorbar": {
             "outlinewidth": 0,
             "ticks": ""
            },
            "colorscale": [
             [
              0,
              "#0d0887"
             ],
             [
              0.1111111111111111,
              "#46039f"
             ],
             [
              0.2222222222222222,
              "#7201a8"
             ],
             [
              0.3333333333333333,
              "#9c179e"
             ],
             [
              0.4444444444444444,
              "#bd3786"
             ],
             [
              0.5555555555555556,
              "#d8576b"
             ],
             [
              0.6666666666666666,
              "#ed7953"
             ],
             [
              0.7777777777777778,
              "#fb9f3a"
             ],
             [
              0.8888888888888888,
              "#fdca26"
             ],
             [
              1,
              "#f0f921"
             ]
            ],
            "type": "heatmapgl"
           }
          ],
          "histogram": [
           {
            "marker": {
             "pattern": {
              "fillmode": "overlay",
              "size": 10,
              "solidity": 0.2
             }
            },
            "type": "histogram"
           }
          ],
          "histogram2d": [
           {
            "colorbar": {
             "outlinewidth": 0,
             "ticks": ""
            },
            "colorscale": [
             [
              0,
              "#0d0887"
             ],
             [
              0.1111111111111111,
              "#46039f"
             ],
             [
              0.2222222222222222,
              "#7201a8"
             ],
             [
              0.3333333333333333,
              "#9c179e"
             ],
             [
              0.4444444444444444,
              "#bd3786"
             ],
             [
              0.5555555555555556,
              "#d8576b"
             ],
             [
              0.6666666666666666,
              "#ed7953"
             ],
             [
              0.7777777777777778,
              "#fb9f3a"
             ],
             [
              0.8888888888888888,
              "#fdca26"
             ],
             [
              1,
              "#f0f921"
             ]
            ],
            "type": "histogram2d"
           }
          ],
          "histogram2dcontour": [
           {
            "colorbar": {
             "outlinewidth": 0,
             "ticks": ""
            },
            "colorscale": [
             [
              0,
              "#0d0887"
             ],
             [
              0.1111111111111111,
              "#46039f"
             ],
             [
              0.2222222222222222,
              "#7201a8"
             ],
             [
              0.3333333333333333,
              "#9c179e"
             ],
             [
              0.4444444444444444,
              "#bd3786"
             ],
             [
              0.5555555555555556,
              "#d8576b"
             ],
             [
              0.6666666666666666,
              "#ed7953"
             ],
             [
              0.7777777777777778,
              "#fb9f3a"
             ],
             [
              0.8888888888888888,
              "#fdca26"
             ],
             [
              1,
              "#f0f921"
             ]
            ],
            "type": "histogram2dcontour"
           }
          ],
          "mesh3d": [
           {
            "colorbar": {
             "outlinewidth": 0,
             "ticks": ""
            },
            "type": "mesh3d"
           }
          ],
          "parcoords": [
           {
            "line": {
             "colorbar": {
              "outlinewidth": 0,
              "ticks": ""
             }
            },
            "type": "parcoords"
           }
          ],
          "pie": [
           {
            "automargin": true,
            "type": "pie"
           }
          ],
          "scatter": [
           {
            "fillpattern": {
             "fillmode": "overlay",
             "size": 10,
             "solidity": 0.2
            },
            "type": "scatter"
           }
          ],
          "scatter3d": [
           {
            "line": {
             "colorbar": {
              "outlinewidth": 0,
              "ticks": ""
             }
            },
            "marker": {
             "colorbar": {
              "outlinewidth": 0,
              "ticks": ""
             }
            },
            "type": "scatter3d"
           }
          ],
          "scattercarpet": [
           {
            "marker": {
             "colorbar": {
              "outlinewidth": 0,
              "ticks": ""
             }
            },
            "type": "scattercarpet"
           }
          ],
          "scattergeo": [
           {
            "marker": {
             "colorbar": {
              "outlinewidth": 0,
              "ticks": ""
             }
            },
            "type": "scattergeo"
           }
          ],
          "scattergl": [
           {
            "marker": {
             "colorbar": {
              "outlinewidth": 0,
              "ticks": ""
             }
            },
            "type": "scattergl"
           }
          ],
          "scattermapbox": [
           {
            "marker": {
             "colorbar": {
              "outlinewidth": 0,
              "ticks": ""
             }
            },
            "type": "scattermapbox"
           }
          ],
          "scatterpolar": [
           {
            "marker": {
             "colorbar": {
              "outlinewidth": 0,
              "ticks": ""
             }
            },
            "type": "scatterpolar"
           }
          ],
          "scatterpolargl": [
           {
            "marker": {
             "colorbar": {
              "outlinewidth": 0,
              "ticks": ""
             }
            },
            "type": "scatterpolargl"
           }
          ],
          "scatterternary": [
           {
            "marker": {
             "colorbar": {
              "outlinewidth": 0,
              "ticks": ""
             }
            },
            "type": "scatterternary"
           }
          ],
          "surface": [
           {
            "colorbar": {
             "outlinewidth": 0,
             "ticks": ""
            },
            "colorscale": [
             [
              0,
              "#0d0887"
             ],
             [
              0.1111111111111111,
              "#46039f"
             ],
             [
              0.2222222222222222,
              "#7201a8"
             ],
             [
              0.3333333333333333,
              "#9c179e"
             ],
             [
              0.4444444444444444,
              "#bd3786"
             ],
             [
              0.5555555555555556,
              "#d8576b"
             ],
             [
              0.6666666666666666,
              "#ed7953"
             ],
             [
              0.7777777777777778,
              "#fb9f3a"
             ],
             [
              0.8888888888888888,
              "#fdca26"
             ],
             [
              1,
              "#f0f921"
             ]
            ],
            "type": "surface"
           }
          ],
          "table": [
           {
            "cells": {
             "fill": {
              "color": "#EBF0F8"
             },
             "line": {
              "color": "white"
             }
            },
            "header": {
             "fill": {
              "color": "#C8D4E3"
             },
             "line": {
              "color": "white"
             }
            },
            "type": "table"
           }
          ]
         },
         "layout": {
          "annotationdefaults": {
           "arrowcolor": "#2a3f5f",
           "arrowhead": 0,
           "arrowwidth": 1
          },
          "autotypenumbers": "strict",
          "coloraxis": {
           "colorbar": {
            "outlinewidth": 0,
            "ticks": ""
           }
          },
          "colorscale": {
           "diverging": [
            [
             0,
             "#8e0152"
            ],
            [
             0.1,
             "#c51b7d"
            ],
            [
             0.2,
             "#de77ae"
            ],
            [
             0.3,
             "#f1b6da"
            ],
            [
             0.4,
             "#fde0ef"
            ],
            [
             0.5,
             "#f7f7f7"
            ],
            [
             0.6,
             "#e6f5d0"
            ],
            [
             0.7,
             "#b8e186"
            ],
            [
             0.8,
             "#7fbc41"
            ],
            [
             0.9,
             "#4d9221"
            ],
            [
             1,
             "#276419"
            ]
           ],
           "sequential": [
            [
             0,
             "#0d0887"
            ],
            [
             0.1111111111111111,
             "#46039f"
            ],
            [
             0.2222222222222222,
             "#7201a8"
            ],
            [
             0.3333333333333333,
             "#9c179e"
            ],
            [
             0.4444444444444444,
             "#bd3786"
            ],
            [
             0.5555555555555556,
             "#d8576b"
            ],
            [
             0.6666666666666666,
             "#ed7953"
            ],
            [
             0.7777777777777778,
             "#fb9f3a"
            ],
            [
             0.8888888888888888,
             "#fdca26"
            ],
            [
             1,
             "#f0f921"
            ]
           ],
           "sequentialminus": [
            [
             0,
             "#0d0887"
            ],
            [
             0.1111111111111111,
             "#46039f"
            ],
            [
             0.2222222222222222,
             "#7201a8"
            ],
            [
             0.3333333333333333,
             "#9c179e"
            ],
            [
             0.4444444444444444,
             "#bd3786"
            ],
            [
             0.5555555555555556,
             "#d8576b"
            ],
            [
             0.6666666666666666,
             "#ed7953"
            ],
            [
             0.7777777777777778,
             "#fb9f3a"
            ],
            [
             0.8888888888888888,
             "#fdca26"
            ],
            [
             1,
             "#f0f921"
            ]
           ]
          },
          "colorway": [
           "#636efa",
           "#EF553B",
           "#00cc96",
           "#ab63fa",
           "#FFA15A",
           "#19d3f3",
           "#FF6692",
           "#B6E880",
           "#FF97FF",
           "#FECB52"
          ],
          "font": {
           "color": "#2a3f5f"
          },
          "geo": {
           "bgcolor": "white",
           "lakecolor": "white",
           "landcolor": "#E5ECF6",
           "showlakes": true,
           "showland": true,
           "subunitcolor": "white"
          },
          "hoverlabel": {
           "align": "left"
          },
          "hovermode": "closest",
          "mapbox": {
           "style": "light"
          },
          "paper_bgcolor": "white",
          "plot_bgcolor": "#E5ECF6",
          "polar": {
           "angularaxis": {
            "gridcolor": "white",
            "linecolor": "white",
            "ticks": ""
           },
           "bgcolor": "#E5ECF6",
           "radialaxis": {
            "gridcolor": "white",
            "linecolor": "white",
            "ticks": ""
           }
          },
          "scene": {
           "xaxis": {
            "backgroundcolor": "#E5ECF6",
            "gridcolor": "white",
            "gridwidth": 2,
            "linecolor": "white",
            "showbackground": true,
            "ticks": "",
            "zerolinecolor": "white"
           },
           "yaxis": {
            "backgroundcolor": "#E5ECF6",
            "gridcolor": "white",
            "gridwidth": 2,
            "linecolor": "white",
            "showbackground": true,
            "ticks": "",
            "zerolinecolor": "white"
           },
           "zaxis": {
            "backgroundcolor": "#E5ECF6",
            "gridcolor": "white",
            "gridwidth": 2,
            "linecolor": "white",
            "showbackground": true,
            "ticks": "",
            "zerolinecolor": "white"
           }
          },
          "shapedefaults": {
           "line": {
            "color": "#2a3f5f"
           }
          },
          "ternary": {
           "aaxis": {
            "gridcolor": "white",
            "linecolor": "white",
            "ticks": ""
           },
           "baxis": {
            "gridcolor": "white",
            "linecolor": "white",
            "ticks": ""
           },
           "bgcolor": "#E5ECF6",
           "caxis": {
            "gridcolor": "white",
            "linecolor": "white",
            "ticks": ""
           }
          },
          "title": {
           "x": 0.05
          },
          "xaxis": {
           "automargin": true,
           "gridcolor": "white",
           "linecolor": "white",
           "ticks": "",
           "title": {
            "standoff": 15
           },
           "zerolinecolor": "white",
           "zerolinewidth": 2
          },
          "yaxis": {
           "automargin": true,
           "gridcolor": "white",
           "linecolor": "white",
           "ticks": "",
           "title": {
            "standoff": 15
           },
           "zerolinecolor": "white",
           "zerolinewidth": 2
          }
         }
        },
        "title": {
         "text": "M7 :: Vitesse moyenne / flotte par segment"
        },
        "xaxis": {
         "anchor": "y",
         "domain": [
          0,
          0.45
         ]
        },
        "xaxis2": {
         "anchor": "y2",
         "domain": [
          0.55,
          1
         ]
        },
        "xaxis3": {
         "anchor": "y3",
         "domain": [
          0,
          0.45
         ]
        },
        "xaxis4": {
         "anchor": "y4",
         "domain": [
          0.55,
          1
         ]
        },
        "xaxis5": {
         "anchor": "y5",
         "domain": [
          0,
          0.45
         ]
        },
        "xaxis6": {
         "anchor": "y6",
         "domain": [
          0.55,
          1
         ]
        },
        "yaxis": {
         "anchor": "x",
         "domain": [
          0.7777777777777778,
          1
         ],
         "type": "log"
        },
        "yaxis2": {
         "anchor": "x2",
         "domain": [
          0.7777777777777778,
          1
         ],
         "type": "log"
        },
        "yaxis3": {
         "anchor": "x3",
         "domain": [
          0.3888888888888889,
          0.6111111111111112
         ],
         "type": "log"
        },
        "yaxis4": {
         "anchor": "x4",
         "domain": [
          0.3888888888888889,
          0.6111111111111112
         ],
         "type": "log"
        },
        "yaxis5": {
         "anchor": "x5",
         "domain": [
          0,
          0.22222222222222224
         ],
         "type": "log"
        },
        "yaxis6": {
         "anchor": "x6",
         "domain": [
          0,
          0.22222222222222224
         ],
         "type": "log"
        }
       }
      }
     },
     "metadata": {},
     "output_type": "display_data"
    }
   ],
   "source": [
    "import plotly.graph_objects as go\n",
    "from plotly.subplots import make_subplots\n",
    "import numpy as np\n",
    "\n",
    "def add_graph(index, fig, df, row, col):\n",
    "    mean = np.nanmean(df['s' + index + stat_compare])\n",
    "    text_index = index if index == '6' else int(index) + 1\n",
    "    t = go.Bar(\n",
    "        x=selection.nom, \n",
    "        y=selection['s' + index + stat_selection],\n",
    "        name='v moy : ' + str(round(mean, 2)) + 'knt',\n",
    "        text=selection['s' + str(text_index) + '_rankentersegment']\n",
    "    )\n",
    "    \n",
    "    fig.append_trace(t, row, col)\n",
    "    fig.add_hline(y=mean, line_color='red', row=row, col=col)\n",
    "\n",
    "fig_rows = 3\n",
    "fig_cols = 2\n",
    "\n",
    "fig = make_subplots(rows=fig_rows, cols=fig_cols, start_cell='top-left', subplot_titles=(\"Départ -> 1 (près)\", \"Leg 2\", \"Leg 3\", \"Leg 4\", \"Leg 5\", \"3 -> arrivée (travers)\"))\n",
    "index = 1\n",
    "for row in range(fig_rows):\n",
    "    for col in range(fig_cols):\n",
    "        add_graph(str(index), fig, df, row + 1, col + 1)\n",
    "        index += 1\n",
    "\n",
    "\n",
    "fig.update_layout(title_text= manche + ' :: Vitesse moyenne / flotte par segment', height=900)\n",
    "fig.update_yaxes(type='log')\n",
    "fig.show()"
   ]
  },
  {
   "cell_type": "code",
   "execution_count": 43,
   "id": "a25447be",
   "metadata": {},
   "outputs": [],
   "source": [
    "content = \"\"\"<!--<main id=\"evento-single-container-main-ajax\" class=\"single-content\">-->\\n    <div class=\"container-fluid full-width\">\\n        <!-- single content 428 -->\\n        <!-- template-parts/event -->\\n<div class=\"row\">\\n    <div class=\"col-md-12\">\\n        <div class=\"single-event-header\">\\n            <h5 class=\"d-flex align-items-center\">Championnats de France Minimes 2023</h5>\\n            <p>July 11th - 14th 2023</p>\\n        </div>\\n    </div>\\n</div>\\n<div class=\"row\">\\n    <div class=\"col-sm-4\">\\n        <div class=\"single-event-logo\" style=\"text-align: center;\">\\n            <img src=\"https://app.metasail.it/images/eventi/428.jpg\"\\n                 alt=\"Championnats de France Minimes 2023\"/>\\n        </div>\\n\\t\\t\\t\\t\\n\\t\\t            <div class=\"single-event-classi\">\\n                <div>\\n                    <dt>Category</dt>\\n\\t\\t\\t\\t\\t                    <dl>Optimist, Optimist Filles, Optimist Garcons, Open Skiff Garcons, Techno Filles, Techno Garcons, Open Skiff Filles, Feva, Tika</dl>\\n                </div>\\n            </div>\\n\\t\\t\\t\\t            <div class=\"single-event-site\">\\n                <a href=\"https://evenements.ffvoile.fr/championnats-de-france-jeunes/cfm-infos-sur-lepreuve/\"\\n                   target=\"_blank\">Go to the official website</a>\\n            </div>\\n\\t\\t    </div>\\n    <div class=\"col-sm-8\">\\n\\t\\t\\n            <div class=\"single-block-list\">\\n\\t\\t\\t\\t                    <h4>13/07/2023</h4>\\n                    <ul>\\n\\t\\t\\t\\t\\t\\t                           \\n                            <li>\\n                                <div class=\"event-name\" data-order=\"1_open-skiff-filles_09996\">\\n                                    <p>\\n                                       <a href=\"https://app.metasail.it/ViewRecordedRace2018.aspx?idgara=20453&token=Y1XU\" target=\"_blank\">\\n                                            <strong>Open Skiff Filles R 13</strong>\\n                                             <span class=\"event-toolbar\">\\n                                                                                       \\n                                                                                    </span>\\n                                        </a>\\n                                    </p>\\n\\t\\t\\t\\t\\t\\t\\t\\t\\t                                </div>\\n\\n\\n                            </li>\\n\\t\\t\\t\\t\\t\\t                           \\n                            <li>\\n                                <div class=\"event-name\" data-order=\"1_open-skiff-garcons_09996\">\\n                                    <p>\\n                                       <a href=\"https://app.metasail.it/ViewRecordedRace2018.aspx?idgara=20452&token=Y1XU\" target=\"_blank\">\\n                                            <strong>Open Skiff Garcons R 13</strong>\\n                                             <span class=\"event-toolbar\">\\n                                                                                       \\n                                                                                    </span>\\n                                        </a>\\n                                    </p>\\n\\t\\t\\t\\t\\t\\t\\t\\t\\t                                </div>\\n\\n\\n                            </li>\\n\\t\\t\\t\\t\\t\\t                           \\n                            <li>\\n                                <div class=\"event-name\" data-order=\"1_optimist-filles_09997\">\\n                                    <p>\\n                                       <a href=\"https://app.metasail.it/ViewRecordedRace2018.aspx?idgara=20454&token=Y1XU\" target=\"_blank\">\\n                                            <strong>Optimist Filles R 12</strong>\\n                                             <span class=\"event-toolbar\">\\n                                                                                       \\n                                                                                    </span>\\n                                        </a>\\n                                    </p>\\n\\t\\t\\t\\t\\t\\t\\t\\t\\t                                </div>\\n\\n\\n                            </li>\\n\\t\\t\\t\\t\\t\\t                           \\n                            <li>\\n                                <div class=\"event-name\" data-order=\"1_optimist-filles_09999\">\\n                                    <p>\\n                                       <a href=\"https://app.metasail.it/ViewRecordedRace2018.aspx?idgara=20447&token=Y1XU\" target=\"_blank\">\\n                                            <strong>Optimist Filles general recall R 12</strong>\\n                                             <span class=\"event-toolbar\">\\n                                                                                       \\n                                                                                    </span>\\n                                        </a>\\n                                    </p>\\n\\t\\t\\t\\t\\t\\t\\t\\t\\t                                </div>\\n\\n\\n                            </li>\\n\\t\\t\\t\\t\\t\\t                           \\n                            <li>\\n                                <div class=\"event-name\" data-order=\"1_optimist-garcons_09997\">\\n                                    <p>\\n                                       <a href=\"https://app.metasail.it/ViewRecordedRace2018.aspx?idgara=20446&token=Y1XU\" target=\"_blank\">\\n                                            <strong>Optimist Garcons general recall R 12</strong>\\n                                             <span class=\"event-toolbar\">\\n                                                                                       \\n                                                                                    </span>\\n                                        </a>\\n                                    </p>\\n\\t\\t\\t\\t\\t\\t\\t\\t\\t                                </div>\\n\\n\\n                            </li>\\n\\t\\t\\t\\t\\t\\t                           \\n                            <li>\\n                                <div class=\"event-name\" data-order=\"1_optimist-garcons_09999\">\\n                                    <p>\\n                                       <a href=\"https://app.metasail.it/ViewRecordedRace2018.aspx?idgara=20459&token=Y1XU\" target=\"_blank\">\\n                                            <strong>Optimist Garcons abandoned R 12</strong>\\n                                             <span class=\"event-toolbar\">\\n                                                                                       \\n                                                                                    </span>\\n                                        </a>\\n                                    </p>\\n\\t\\t\\t\\t\\t\\t\\t\\t\\t                                </div>\\n\\n\\n                            </li>\\n\\t\\t\\t\\t\\t\\t                           \\n                            <li>\\n                                <div class=\"event-name\" data-order=\"1_techno-filles_09997\">\\n                                    <p>\\n                                       <a href=\"https://app.metasail.it/ViewRecordedRace2018.aspx?idgara=20457&token=Y1XU\" target=\"_blank\">\\n                                            <strong>Techno Filles R 12</strong>\\n                                             <span class=\"event-toolbar\">\\n                                                                                       \\n                                                                                    </span>\\n                                        </a>\\n                                    </p>\\n\\t\\t\\t\\t\\t\\t\\t\\t\\t                                </div>\\n\\n\\n                            </li>\\n\\t\\t\\t\\t\\t\\t                           \\n                            <li>\\n                                <div class=\"event-name\" data-order=\"1_techno-garcons_09999\">\\n                                    <p>\\n                                       <a href=\"https://app.metasail.it/ViewRecordedRace2018.aspx?idgara=20456&token=Y1XU\" target=\"_blank\">\\n                                            <strong>Techno Garcons R 12</strong>\\n                                             <span class=\"event-toolbar\">\\n                                                                                       \\n                                                                                    </span>\\n                                        </a>\\n                                    </p>\\n\\t\\t\\t\\t\\t\\t\\t\\t\\t                                </div>\\n\\n\\n                            </li>\\n\\t\\t\\t\\t\\t\\t                    </ul>\\n\\t\\t\\t\\t                    <h4>12/07/2023</h4>\\n                    <ul>\\n\\t\\t\\t\\t\\t\\t                           \\n                            <li>\\n                                <div class=\"event-name\" data-order=\"1_feva_09988\">\\n                                    <p>\\n                                       <a href=\"https://app.metasail.it/ViewRecordedRace2018.aspx?idgara=20408&token=Y1XU\" target=\"_blank\">\\n                                            <strong>Feva R 11</strong>\\n                                             <span class=\"event-toolbar\">\\n                                                                                       \\n                                                                                    </span>\\n                                        </a>\\n                                    </p>\\n\\t\\t\\t\\t\\t\\t\\t\\t\\t                                </div>\\n\\n\\n                            </li>\\n\\t\\t\\t\\t\\t\\t                           \\n                            <li>\\n                                <div class=\"event-name\" data-order=\"1_feva_09999\">\\n                                    <p>\\n                                       <a href=\"https://app.metasail.it/ViewRecordedRace2018.aspx?idgara=20399&token=Y1XU\" target=\"_blank\">\\n                                            <strong>Feva R 10</strong>\\n                                             <span class=\"event-toolbar\">\\n                                                                                       \\n                                                                                    </span>\\n                                        </a>\\n                                    </p>\\n\\t\\t\\t\\t\\t\\t\\t\\t\\t                                </div>\\n\\n\\n                            </li>\\n\\t\\t\\t\\t\\t\\t                           \\n                            <li>\\n                                <div class=\"event-name\" data-order=\"1_open-skiff-filles_09987\">\\n                                    <p>\\n                                       <a href=\"https://app.metasail.it/ViewRecordedRace2018.aspx?idgara=20416&token=Y1XU\" target=\"_blank\">\\n                                            <strong>Open Skiff Filles R 12</strong>\\n                                             <span class=\"event-toolbar\">\\n                                                                                       \\n                                                                                    </span>\\n                                        </a>\\n                                    </p>\\n\\t\\t\\t\\t\\t\\t\\t\\t\\t                                </div>\\n\\n\\n                            </li>\\n\\t\\t\\t\\t\\t\\t                           \\n                            <li>\\n                                <div class=\"event-name\" data-order=\"1_open-skiff-filles_09988\">\\n                                    <p>\\n                                       <a href=\"https://app.metasail.it/ViewRecordedRace2018.aspx?idgara=20407&token=Y1XU\" target=\"_blank\">\\n                                            <strong>Open Skiff Filles R 11</strong>\\n                                             <span class=\"event-toolbar\">\\n                                                                                       \\n                                                                                    </span>\\n                                        </a>\\n                                    </p>\\n\\t\\t\\t\\t\\t\\t\\t\\t\\t                                </div>\\n\\n\\n                            </li>\\n\\t\\t\\t\\t\\t\\t                           \\n                            <li>\\n                                <div class=\"event-name\" data-order=\"1_open-skiff-filles_09999\">\\n                                    <p>\\n                                       <a href=\"https://app.metasail.it/ViewRecordedRace2018.aspx?idgara=20393&token=Y1XU\" target=\"_blank\">\\n                                            <strong>Open Skiff Filles R 10</strong>\\n                                             <span class=\"event-toolbar\">\\n                                                                                       \\n                                                                                    </span>\\n                                        </a>\\n                                    </p>\\n\\t\\t\\t\\t\\t\\t\\t\\t\\t                                </div>\\n\\n\\n                            </li>\\n\\t\\t\\t\\t\\t\\t                           \\n                            <li>\\n                                <div class=\"event-name\" data-order=\"1_open-skiff-garcons_09987\">\\n                                    <p>\\n                                       <a href=\"https://app.metasail.it/ViewRecordedRace2018.aspx?idgara=20418&token=Y1XU\" target=\"_blank\">\\n                                            <strong>Open Skiff Garcons R 12</strong>\\n                                             <span class=\"event-toolbar\">\\n                                                                                       \\n                                                                                    </span>\\n                                        </a>\\n                                    </p>\\n\\t\\t\\t\\t\\t\\t\\t\\t\\t                                </div>\\n\\n\\n                            </li>\\n\\t\\t\\t\\t\\t\\t                           \\n                            <li>\\n                                <div class=\"event-name\" data-order=\"1_open-skiff-garcons_09988\">\\n                                    <p>\\n                                       <a href=\"https://app.metasail.it/ViewRecordedRace2018.aspx?idgara=20409&token=Y1XU\" target=\"_blank\">\\n                                            <strong>Open Skiff Garcons R 11</strong>\\n                                             <span class=\"event-toolbar\">\\n                                                                                       \\n                                                                                    </span>\\n                                        </a>\\n                                    </p>\\n\\t\\t\\t\\t\\t\\t\\t\\t\\t                                </div>\\n\\n\\n                            </li>\\n\\t\\t\\t\\t\\t\\t                           \\n                            <li>\\n                                <div class=\"event-name\" data-order=\"1_open-skiff-garcons_09999\">\\n                                    <p>\\n                                       <a href=\"https://app.metasail.it/ViewRecordedRace2018.aspx?idgara=20394&token=Y1XU\" target=\"_blank\">\\n                                            <strong>Open Skiff Garcons R 10</strong>\\n                                             <span class=\"event-toolbar\">\\n                                                                                       \\n                                                                                    </span>\\n                                        </a>\\n                                    </p>\\n\\t\\t\\t\\t\\t\\t\\t\\t\\t                                </div>\\n\\n\\n                            </li>\\n\\t\\t\\t\\t\\t\\t                           \\n                            <li>\\n                                <div class=\"event-name\" data-order=\"1_optimist-filles_09988\">\\n                                    <p>\\n                                       <a href=\"https://app.metasail.it/ViewRecordedRace2018.aspx?idgara=20413&token=Y1XU\" target=\"_blank\">\\n                                            <strong>Optimist Filles R 11</strong>\\n                                             <span class=\"event-toolbar\">\\n                                                                                       \\n                                                                                    </span>\\n                                        </a>\\n                                    </p>\\n\\t\\t\\t\\t\\t\\t\\t\\t\\t                                </div>\\n\\n\\n                            </li>\\n\\t\\t\\t\\t\\t\\t                           \\n                            <li>\\n                                <div class=\"event-name\" data-order=\"1_optimist-filles_09999\">\\n                                    <p>\\n                                       <a href=\"https://app.metasail.it/ViewRecordedRace2018.aspx?idgara=20401&token=Y1XU\" target=\"_blank\">\\n                                            <strong>Optimist Filles R 10</strong>\\n                                             <span class=\"event-toolbar\">\\n                                                                                       \\n                                                                                    </span>\\n                                        </a>\\n                                    </p>\\n\\t\\t\\t\\t\\t\\t\\t\\t\\t                                </div>\\n\\n\\n                            </li>\\n\\t\\t\\t\\t\\t\\t                           \\n                            <li>\\n                                <div class=\"event-name\" data-order=\"1_optimist-garcons_09988\">\\n                                    <p>\\n                                       <a href=\"https://app.metasail.it/ViewRecordedRace2018.aspx?idgara=20411&token=Y1XU\" target=\"_blank\">\\n                                            <strong>Optimist Garcons R 11</strong>\\n                                             <span class=\"event-toolbar\">\\n                                                                                       \\n                                                                                    </span>\\n                                        </a>\\n                                    </p>\\n\\t\\t\\t\\t\\t\\t\\t\\t\\t                                </div>\\n\\n\\n                            </li>\\n\\t\\t\\t\\t\\t\\t                           \\n                            <li>\\n                                <div class=\"event-name\" data-order=\"1_optimist-garcons_09989\">\\n                                    <p>\\n                                       <a href=\"https://app.metasail.it/ViewRecordedRace2018.aspx?idgara=20395&token=Y1XU\" target=\"_blank\">\\n                                            <strong>Optimist Garcons general recall R 10</strong>\\n                                             <span class=\"event-toolbar\">\\n                                                                                       \\n                                                                                    </span>\\n                                        </a>\\n                                    </p>\\n\\t\\t\\t\\t\\t\\t\\t\\t\\t                                </div>\\n\\n\\n                            </li>\\n\\t\\t\\t\\t\\t\\t                           \\n                            <li>\\n                                <div class=\"event-name\" data-order=\"1_optimist-garcons_09999\">\\n                                    <p>\\n                                       <a href=\"https://app.metasail.it/ViewRecordedRace2018.aspx?idgara=20404&token=Y1XU\" target=\"_blank\">\\n                                            <strong>Optimist Garcons R 10</strong>\\n                                             <span class=\"event-toolbar\">\\n                                                                                       \\n                                                                                    </span>\\n                                        </a>\\n                                    </p>\\n\\t\\t\\t\\t\\t\\t\\t\\t\\t                                </div>\\n\\n\\n                            </li>\\n\\t\\t\\t\\t\\t\\t                           \\n                            <li>\\n                                <div class=\"event-name\" data-order=\"1_techno-filles_09988\">\\n                                    <p>\\n                                       <a href=\"https://app.metasail.it/ViewRecordedRace2018.aspx?idgara=20417&token=Y1XU\" target=\"_blank\">\\n                                            <strong>Techno Filles R 11</strong>\\n                                             <span class=\"event-toolbar\">\\n                                                                                       \\n                                                                                    </span>\\n                                        </a>\\n                                    </p>\\n\\t\\t\\t\\t\\t\\t\\t\\t\\t                                </div>\\n\\n\\n                            </li>\\n\\t\\t\\t\\t\\t\\t                           \\n                            <li>\\n                                <div class=\"event-name\" data-order=\"1_techno-filles_09989\">\\n                                    <p>\\n                                       <a href=\"https://app.metasail.it/ViewRecordedRace2018.aspx?idgara=20410&token=Y1XU\" target=\"_blank\">\\n                                            <strong>Techno Filles R 10</strong>\\n                                             <span class=\"event-toolbar\">\\n                                                                                       \\n                                                                                    </span>\\n                                        </a>\\n                                    </p>\\n\\t\\t\\t\\t\\t\\t\\t\\t\\t                                </div>\\n\\n\\n                            </li>\\n\\t\\t\\t\\t\\t\\t                           \\n                            <li>\\n                                <div class=\"event-name\" data-order=\"1_techno-filles_09999\">\\n                                    <p>\\n                                       <a href=\"https://app.metasail.it/ViewRecordedRace2018.aspx?idgara=20405&token=Y1XU\" target=\"_blank\">\\n                                            <strong>Techno Filles R 9</strong>\\n                                             <span class=\"event-toolbar\">\\n                                                                                       \\n                                                                                    </span>\\n                                        </a>\\n                                    </p>\\n\\t\\t\\t\\t\\t\\t\\t\\t\\t                                </div>\\n\\n\\n                            </li>\\n\\t\\t\\t\\t\\t\\t                           \\n                            <li>\\n                                <div class=\"event-name\" data-order=\"1_techno-garcons_09988\">\\n                                    <p>\\n                                       <a href=\"https://app.metasail.it/ViewRecordedRace2018.aspx?idgara=20420&token=Y1XU\" target=\"_blank\">\\n                                            <strong>Techno Garcons R 11</strong>\\n                                             <span class=\"event-toolbar\">\\n                                                                                       \\n                                                                                    </span>\\n                                        </a>\\n                                    </p>\\n\\t\\t\\t\\t\\t\\t\\t\\t\\t                                </div>\\n\\n\\n                            </li>\\n\\t\\t\\t\\t\\t\\t                           \\n                            <li>\\n                                <div class=\"event-name\" data-order=\"1_techno-garcons_09989\">\\n                                    <p>\\n                                       <a href=\"https://app.metasail.it/ViewRecordedRace2018.aspx?idgara=20412&token=Y1XU\" target=\"_blank\">\\n                                            <strong>Techno Garcons R 10</strong>\\n                                             <span class=\"event-toolbar\">\\n                                                                                       \\n                                                                                    </span>\\n                                        </a>\\n                                    </p>\\n\\t\\t\\t\\t\\t\\t\\t\\t\\t                                </div>\\n\\n\\n                            </li>\\n\\t\\t\\t\\t\\t\\t                           \\n                            <li>\\n                                <div class=\"event-name\" data-order=\"1_techno-garcons_09990\">\\n                                    <p>\\n                                       <a href=\"https://app.metasail.it/ViewRecordedRace2018.aspx?idgara=20406&token=Y1XU\" target=\"_blank\">\\n                                            <strong>Techno Garcons R 9</strong>\\n                                             <span class=\"event-toolbar\">\\n                                                                                       \\n                                                                                    </span>\\n                                        </a>\\n                                    </p>\\n\\t\\t\\t\\t\\t\\t\\t\\t\\t                                </div>\\n\\n\\n                            </li>\\n\\t\\t\\t\\t\\t\\t                           \\n                            <li>\\n                                <div class=\"event-name\" data-order=\"1_tika_09988\">\\n                                    <p>\\n                                       <a href=\"https://app.metasail.it/ViewRecordedRace2018.aspx?idgara=20414&token=Y1XU\" target=\"_blank\">\\n                                            <strong>Tika R 11</strong>\\n                                             <span class=\"event-toolbar\">\\n                                                                                       \\n                                                                                    </span>\\n                                        </a>\\n                                    </p>\\n\\t\\t\\t\\t\\t\\t\\t\\t\\t                                </div>\\n\\n\\n                            </li>\\n\\t\\t\\t\\t\\t\\t                           \\n                            <li>\\n                                <div class=\"event-name\" data-order=\"1_tika_09999\">\\n                                    <p>\\n                                       <a href=\"https://app.metasail.it/ViewRecordedRace2018.aspx?idgara=20400&token=Y1XU\" target=\"_blank\">\\n                                            <strong>Tika R 10</strong>\\n                                             <span class=\"event-toolbar\">\\n                                                                                       \\n                                                                                    </span>\\n                                        </a>\\n                                    </p>\\n\\t\\t\\t\\t\\t\\t\\t\\t\\t                                </div>\\n\\n\\n                            </li>\\n\\t\\t\\t\\t\\t\\t                    </ul>\\n\\t\\t\\t\\t                    <h4>11/07/2023</h4>\\n                    <ul>\\n\\t\\t\\t\\t\\t\\t                           \\n                            <li>\\n                                <div class=\"event-name\" data-order=\"1_feva_09990\">\\n                                    <p>\\n                                       <a href=\"https://app.metasail.it/ViewRecordedRace2018.aspx?idgara=20362&token=Y1XU\" target=\"_blank\">\\n                                            <strong>Feva R 9</strong>\\n                                             <span class=\"event-toolbar\">\\n                                                                                       \\n                                                                                    </span>\\n                                        </a>\\n                                    </p>\\n\\t\\t\\t\\t\\t\\t\\t\\t\\t                                </div>\\n\\n\\n                            </li>\\n\\t\\t\\t\\t\\t\\t                           \\n                            <li>\\n                                <div class=\"event-name\" data-order=\"1_feva_09991\">\\n                                    <p>\\n                                       <a href=\"https://app.metasail.it/ViewRecordedRace2018.aspx?idgara=20354&token=Y1XU\" target=\"_blank\">\\n                                            <strong>Feva R 8</strong>\\n                                             <span class=\"event-toolbar\">\\n                                                                                       \\n                                                                                    </span>\\n                                        </a>\\n                                    </p>\\n\\t\\t\\t\\t\\t\\t\\t\\t\\t                                </div>\\n\\n\\n                            </li>\\n\\t\\t\\t\\t\\t\\t                           \\n                            <li>\\n                                <div class=\"event-name\" data-order=\"1_feva_09992\">\\n                                    <p>\\n                                       <a href=\"https://app.metasail.it/ViewRecordedRace2018.aspx?idgara=20351&token=Y1XU\" target=\"_blank\">\\n                                            <strong>Feva R 7</strong>\\n                                             <span class=\"event-toolbar\">\\n                                                                                       \\n                                                                                    </span>\\n                                        </a>\\n                                    </p>\\n\\t\\t\\t\\t\\t\\t\\t\\t\\t                                </div>\\n\\n\\n                            </li>\\n\\t\\t\\t\\t\\t\\t                           \\n                            <li>\\n                                <div class=\"event-name\" data-order=\"1_open-skiff-filles_09990\">\\n                                    <p>\\n                                       <a href=\"https://app.metasail.it/ViewRecordedRace2018.aspx?idgara=20359&token=Y1XU\" target=\"_blank\">\\n                                            <strong>Open Skiff Filles R 9</strong>\\n                                             <span class=\"event-toolbar\">\\n                                                                                       \\n                                                                                    </span>\\n                                        </a>\\n                                    </p>\\n\\t\\t\\t\\t\\t\\t\\t\\t\\t                                </div>\\n\\n\\n                            </li>\\n\\t\\t\\t\\t\\t\\t                           \\n                            <li>\\n                                <div class=\"event-name\" data-order=\"1_open-skiff-filles_09991\">\\n                                    <p>\\n                                       <a href=\"https://app.metasail.it/ViewRecordedRace2018.aspx?idgara=20344&token=Y1XU\" target=\"_blank\">\\n                                            <strong>Open Skiff Filles R 8</strong>\\n                                             <span class=\"event-toolbar\">\\n                                                                                       \\n                                                                                    </span>\\n                                        </a>\\n                                    </p>\\n\\t\\t\\t\\t\\t\\t\\t\\t\\t                                </div>\\n\\n\\n                            </li>\\n\\t\\t\\t\\t\\t\\t                           \\n                            <li>\\n                                <div class=\"event-name\" data-order=\"1_open-skiff-filles_09992\">\\n                                    <p>\\n                                       <a href=\"https://app.metasail.it/ViewRecordedRace2018.aspx?idgara=20339&token=Y1XU\" target=\"_blank\">\\n                                            <strong>Open Skiff Filles R 7</strong>\\n                                             <span class=\"event-toolbar\">\\n                                                                                       \\n                                                                                    </span>\\n                                        </a>\\n                                    </p>\\n\\t\\t\\t\\t\\t\\t\\t\\t\\t                                </div>\\n\\n\\n                            </li>\\n\\t\\t\\t\\t\\t\\t                           \\n                            <li>\\n                                <div class=\"event-name\" data-order=\"1_open-skiff-garcons_09990\">\\n                                    <p>\\n                                       <a href=\"https://app.metasail.it/ViewRecordedRace2018.aspx?idgara=20363&token=Y1XU\" target=\"_blank\">\\n                                            <strong>Open Skiff Garcons R 9</strong>\\n                                             <span class=\"event-toolbar\">\\n                                                                                       \\n                                                                                    </span>\\n                                        </a>\\n                                    </p>\\n\\t\\t\\t\\t\\t\\t\\t\\t\\t                                </div>\\n\\n\\n                            </li>\\n\\t\\t\\t\\t\\t\\t                           \\n                            <li>\\n                                <div class=\"event-name\" data-order=\"1_open-skiff-garcons_09991\">\\n                                    <p>\\n                                       <a href=\"https://app.metasail.it/ViewRecordedRace2018.aspx?idgara=20353&token=Y1XU\" target=\"_blank\">\\n                                            <strong>Open Skiff Garcons R 8</strong>\\n                                             <span class=\"event-toolbar\">\\n                                                                                       \\n                                                                                    </span>\\n                                        </a>\\n                                    </p>\\n\\t\\t\\t\\t\\t\\t\\t\\t\\t                                </div>\\n\\n\\n                            </li>\\n\\t\\t\\t\\t\\t\\t                           \\n                            <li>\\n                                <div class=\"event-name\" data-order=\"1_open-skiff-garcons_09992\">\\n                                    <p>\\n                                       <a href=\"https://app.metasail.it/ViewRecordedRace2018.aspx?idgara=20345&token=Y1XU\" target=\"_blank\">\\n                                            <strong>Open Skiff Garcons R 7</strong>\\n                                             <span class=\"event-toolbar\">\\n                                                                                       \\n                                                                                    </span>\\n                                        </a>\\n                                    </p>\\n\\t\\t\\t\\t\\t\\t\\t\\t\\t                                </div>\\n\\n\\n                            </li>\\n\\t\\t\\t\\t\\t\\t                           \\n                            <li>\\n                                <div class=\"event-name\" data-order=\"1_optimist-filles_09990\">\\n                                    <p>\\n                                       <a href=\"https://app.metasail.it/ViewRecordedRace2018.aspx?idgara=20374&token=Y1XU\" target=\"_blank\">\\n                                            <strong>Optimist Filles R 9</strong>\\n                                             <span class=\"event-toolbar\">\\n                                                                                       \\n                                                                                    </span>\\n                                        </a>\\n                                    </p>\\n\\t\\t\\t\\t\\t\\t\\t\\t\\t                                </div>\\n\\n\\n                            </li>\\n\\t\\t\\t\\t\\t\\t                           \\n                            <li>\\n                                <div class=\"event-name\" data-order=\"1_optimist-filles_09990\">\\n                                    <p>\\n                                       <a href=\"https://app.metasail.it/ViewRecordedRace2018.aspx?idgara=20365&token=Y1XU\" target=\"_blank\">\\n                                            <strong>Optimist Filles abandoned R 9</strong>\\n                                             <span class=\"event-toolbar\">\\n                                                                                       \\n                                                                                    </span>\\n                                        </a>\\n                                    </p>\\n\\t\\t\\t\\t\\t\\t\\t\\t\\t                                </div>\\n\\n\\n                            </li>\\n\\t\\t\\t\\t\\t\\t                           \\n                            <li>\\n                                <div class=\"event-name\" data-order=\"1_optimist-filles_09991\">\\n                                    <p>\\n                                       <a href=\"https://app.metasail.it/ViewRecordedRace2018.aspx?idgara=20355&token=Y1XU\" target=\"_blank\">\\n                                            <strong>Optimist Filles R 8</strong>\\n                                             <span class=\"event-toolbar\">\\n                                                                                       \\n                                                                                    </span>\\n                                        </a>\\n                                    </p>\\n\\t\\t\\t\\t\\t\\t\\t\\t\\t                                </div>\\n\\n\\n                            </li>\\n\\t\\t\\t\\t\\t\\t                           \\n                            <li>\\n                                <div class=\"event-name\" data-order=\"1_optimist-filles_09992\">\\n                                    <p>\\n                                       <a href=\"https://app.metasail.it/ViewRecordedRace2018.aspx?idgara=20346&token=Y1XU\" target=\"_blank\">\\n                                            <strong>Optimist Filles R 7</strong>\\n                                             <span class=\"event-toolbar\">\\n                                                                                       \\n                                                                                    </span>\\n                                        </a>\\n                                    </p>\\n\\t\\t\\t\\t\\t\\t\\t\\t\\t                                </div>\\n\\n\\n                            </li>\\n\\t\\t\\t\\t\\t\\t                           \\n                            <li>\\n                                <div class=\"event-name\" data-order=\"1_optimist-garcons_09990\">\\n                                    <p>\\n                                       <a href=\"https://app.metasail.it/ViewRecordedRace2018.aspx?idgara=20368&token=Y1XU\" target=\"_blank\">\\n                                            <strong>Optimist Garcons general recall R 9</strong>\\n                                             <span class=\"event-toolbar\">\\n                                                                                       \\n                                                                                    </span>\\n                                        </a>\\n                                    </p>\\n\\t\\t\\t\\t\\t\\t\\t\\t\\t                                </div>\\n\\n\\n                            </li>\\n\\t\\t\\t\\t\\t\\t                           \\n                            <li>\\n                                <div class=\"event-name\" data-order=\"1_optimist-garcons_09990\">\\n                                    <p>\\n                                       <a href=\"https://app.metasail.it/ViewRecordedRace2018.aspx?idgara=20378&token=Y1XU\" target=\"_blank\">\\n                                            <strong>Optimist Garcons R 9</strong>\\n                                             <span class=\"event-toolbar\">\\n                                                                                       \\n                                                                                    </span>\\n                                        </a>\\n                                    </p>\\n\\t\\t\\t\\t\\t\\t\\t\\t\\t                                </div>\\n\\n\\n                            </li>\\n\\t\\t\\t\\t\\t\\t                           \\n                            <li>\\n                                <div class=\"event-name\" data-order=\"1_optimist-garcons_09991\">\\n                                    <p>\\n                                       <a href=\"https://app.metasail.it/ViewRecordedRace2018.aspx?idgara=20356&token=Y1XU\" target=\"_blank\">\\n                                            <strong>Optimist Garcons R 8</strong>\\n                                             <span class=\"event-toolbar\">\\n                                                                                       \\n                                                                                    </span>\\n                                        </a>\\n                                    </p>\\n\\t\\t\\t\\t\\t\\t\\t\\t\\t                                </div>\\n\\n\\n                            </li>\\n\\t\\t\\t\\t\\t\\t                           \\n                            <li>\\n                                <div class=\"event-name\" data-order=\"1_optimist-garcons_09992\">\\n                                    <p>\\n                                       <a href=\"https://app.metasail.it/ViewRecordedRace2018.aspx?idgara=20347&token=Y1XU\" target=\"_blank\">\\n                                            <strong>Optimist Garcons R 7</strong>\\n                                             <span class=\"event-toolbar\">\\n                                                                                       \\n                                                                                    </span>\\n                                        </a>\\n                                    </p>\\n\\t\\t\\t\\t\\t\\t\\t\\t\\t                                </div>\\n\\n\\n                            </li>\\n\\t\\t\\t\\t\\t\\t                           \\n                            <li>\\n                                <div class=\"event-name\" data-order=\"1_techno-filles_09991\">\\n                                    <p>\\n                                       <a href=\"https://app.metasail.it/ViewRecordedRace2018.aspx?idgara=20371&token=Y1XU\" target=\"_blank\">\\n                                            <strong>Techno Filles R 8</strong>\\n                                             <span class=\"event-toolbar\">\\n                                                                                       \\n                                                                                    </span>\\n                                        </a>\\n                                    </p>\\n\\t\\t\\t\\t\\t\\t\\t\\t\\t                                </div>\\n\\n\\n                            </li>\\n\\t\\t\\t\\t\\t\\t                           \\n                            <li>\\n                                <div class=\"event-name\" data-order=\"1_techno-filles_09992\">\\n                                    <p>\\n                                       <a href=\"https://app.metasail.it/ViewRecordedRace2018.aspx?idgara=20348&token=Y1XU\" target=\"_blank\">\\n                                            <strong>Techno Filles R 7</strong>\\n                                             <span class=\"event-toolbar\">\\n                                                                                       \\n                                                                                    </span>\\n                                        </a>\\n                                    </p>\\n\\t\\t\\t\\t\\t\\t\\t\\t\\t                                </div>\\n\\n\\n                            </li>\\n\\t\\t\\t\\t\\t\\t                           \\n                            <li>\\n                                <div class=\"event-name\" data-order=\"1_techno-filles_09993\">\\n                                    <p>\\n                                       <a href=\"https://app.metasail.it/ViewRecordedRace2018.aspx?idgara=20341&token=Y1XU\" target=\"_blank\">\\n                                            <strong>Techno Filles R 6</strong>\\n                                             <span class=\"event-toolbar\">\\n                                                                                       \\n                                                                                    </span>\\n                                        </a>\\n                                    </p>\\n\\t\\t\\t\\t\\t\\t\\t\\t\\t                                </div>\\n\\n\\n                            </li>\\n\\t\\t\\t\\t\\t\\t                           \\n                            <li>\\n                                <div class=\"event-name\" data-order=\"1_techno-garcons_09991\">\\n                                    <p>\\n                                       <a href=\"https://app.metasail.it/ViewRecordedRace2018.aspx?idgara=20360&token=Y1XU\" target=\"_blank\">\\n                                            <strong>Techno Garcons R 8</strong>\\n                                             <span class=\"event-toolbar\">\\n                                                                                       \\n                                                                                    </span>\\n                                        </a>\\n                                    </p>\\n\\t\\t\\t\\t\\t\\t\\t\\t\\t                                </div>\\n\\n\\n                            </li>\\n\\t\\t\\t\\t\\t\\t                           \\n                            <li>\\n                                <div class=\"event-name\" data-order=\"1_techno-garcons_09992\">\\n                                    <p>\\n                                       <a href=\"https://app.metasail.it/ViewRecordedRace2018.aspx?idgara=20357&token=Y1XU\" target=\"_blank\">\\n                                            <strong>Techno Garcons R 7</strong>\\n                                             <span class=\"event-toolbar\">\\n                                                                                       \\n                                                                                    </span>\\n                                        </a>\\n                                    </p>\\n\\t\\t\\t\\t\\t\\t\\t\\t\\t                                </div>\\n\\n\\n                            </li>\\n\\t\\t\\t\\t\\t\\t                           \\n                            <li>\\n                                <div class=\"event-name\" data-order=\"1_techno-garcons_09993\">\\n                                    <p>\\n                                       <a href=\"https://app.metasail.it/ViewRecordedRace2018.aspx?idgara=20337&token=Y1XU\" target=\"_blank\">\\n                                            <strong>Techno Garcons R 6</strong>\\n                                             <span class=\"event-toolbar\">\\n                                                                                       \\n                                                                                    </span>\\n                                        </a>\\n                                    </p>\\n\\t\\t\\t\\t\\t\\t\\t\\t\\t                                </div>\\n\\n\\n                            </li>\\n\\t\\t\\t\\t\\t\\t                           \\n                            <li>\\n                                <div class=\"event-name\" data-order=\"1_tika_09990\">\\n                                    <p>\\n                                       <a href=\"https://app.metasail.it/ViewRecordedRace2018.aspx?idgara=20364&token=Y1XU\" target=\"_blank\">\\n                                            <strong>Tika R 9</strong>\\n                                             <span class=\"event-toolbar\">\\n                                                                                       \\n                                                                                    </span>\\n                                        </a>\\n                                    </p>\\n\\t\\t\\t\\t\\t\\t\\t\\t\\t                                </div>\\n\\n\\n                            </li>\\n\\t\\t\\t\\t\\t\\t                           \\n                            <li>\\n                                <div class=\"event-name\" data-order=\"1_tika_09991\">\\n                                    <p>\\n                                       <a href=\"https://app.metasail.it/ViewRecordedRace2018.aspx?idgara=20358&token=Y1XU\" target=\"_blank\">\\n                                            <strong>Tika R 8</strong>\\n                                             <span class=\"event-toolbar\">\\n                                                                                       \\n                                                                                    </span>\\n                                        </a>\\n                                    </p>\\n\\t\\t\\t\\t\\t\\t\\t\\t\\t                                </div>\\n\\n\\n                            </li>\\n\\t\\t\\t\\t\\t\\t                           \\n                            <li>\\n                                <div class=\"event-name\" data-order=\"1_tika_09992\">\\n                                    <p>\\n                                       <a href=\"https://app.metasail.it/ViewRecordedRace2018.aspx?idgara=20352&token=Y1XU\" target=\"_blank\">\\n                                            <strong>Tika R 7</strong>\\n                                             <span class=\"event-toolbar\">\\n                                                                                       \\n                                                                                    </span>\\n                                        </a>\\n                                    </p>\\n\\t\\t\\t\\t\\t\\t\\t\\t\\t                                </div>\\n\\n\\n                            </li>\\n\\t\\t\\t\\t\\t\\t                    </ul>\\n\\t\\t\\t\\t            </div>\\n\\t\\t    </div>\\n</div>\\n<div class=\"row\">\\n    <div class=\"single-block-list\"></div>\\n</div>\\n<!-- end template-parts/event -->\\n        <!-- /single content 428 -->\\n    </div>\\n<!--</main>-->\\n\"\"\""
   ]
  },
  {
   "cell_type": "code",
   "execution_count": 67,
   "id": "6567d646-c300-4714-a336-50b4fe0a53a5",
   "metadata": {},
   "outputs": [
    {
     "name": "stdout",
     "output_type": "stream",
     "text": [
      "https://www.metasail.it/wp-content/themes/metasail/ajax/event.php\n"
     ]
    }
   ],
   "source": [
    "import requests\n",
    "from bs4 import BeautifulSoup\n",
    "from w3lib.url import url_query_cleaner\n",
    "\n",
    "url = 'https://www.metasail.it/wp-content/themes/metasail/ajax/event.php?id=428'\n",
    "url = url_query_cleaner(url, ('id'), remove=True)\n",
    "print(url)\n",
    "# r = requests.get(url)\n",
    "\n",
    "# c = r.text.removeprefix(\"b'\").removesuffix(\"'\")\n",
    "\n",
    "# soup = BeautifulSoup(c, 'html.parser')\n",
    "# for a in soup.find_all('a', href=True):\n",
    "#    if 'metasail.it' in a['href']:\n",
    "#        print(a.text, a['href']) "
   ]
  }
 ],
 "metadata": {
  "kernelspec": {
   "display_name": "Python 3 (ipykernel)",
   "language": "python",
   "name": "python3"
  },
  "language_info": {
   "codemirror_mode": {
    "name": "ipython",
    "version": 3
   },
   "file_extension": ".py",
   "mimetype": "text/x-python",
   "name": "python",
   "nbconvert_exporter": "python",
   "pygments_lexer": "ipython3",
   "version": "3.10.9"
  }
 },
 "nbformat": 4,
 "nbformat_minor": 5
}
